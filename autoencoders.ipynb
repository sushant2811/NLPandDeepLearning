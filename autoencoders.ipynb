{
 "cells": [
  {
   "cell_type": "markdown",
   "metadata": {},
   "source": [
    "# Various working examples of autoencoders\n",
    "\n",
    "Ref: [Keras blog](https://blog.keras.io/building-autoencoders-in-keras.html)"
   ]
  },
  {
   "cell_type": "code",
   "execution_count": 136,
   "metadata": {},
   "outputs": [],
   "source": [
    "from keras.layers import Input, Dense\n",
    "from keras.models import Model, Sequential"
   ]
  },
  {
   "cell_type": "code",
   "execution_count": 137,
   "metadata": {
    "collapsed": true
   },
   "outputs": [],
   "source": [
    "#the size of the encoded representation\n",
    "encodingDim = 32 # 32 floats -> compression of factor 24.5, assuming the input is 784 floats"
   ]
  },
  {
   "cell_type": "code",
   "execution_count": 138,
   "metadata": {
    "collapsed": true
   },
   "outputs": [],
   "source": [
    "# placeholder for the input image\n",
    "inputImg = Input(shape=(784,))"
   ]
  },
  {
   "cell_type": "markdown",
   "metadata": {},
   "source": [
    "\"encoded\" is the encoded representation of the input"
   ]
  },
  {
   "cell_type": "code",
   "execution_count": 139,
   "metadata": {
    "collapsed": true
   },
   "outputs": [],
   "source": [
    "encoded = Dense(encodingDim, activation='relu')(inputImg)"
   ]
  },
  {
   "cell_type": "code",
   "execution_count": 140,
   "metadata": {
    "collapsed": true
   },
   "outputs": [],
   "source": [
    "decoded = Dense(784, activation='sigmoid')(encoded)"
   ]
  },
  {
   "cell_type": "markdown",
   "metadata": {},
   "source": [
    "Try another network with the relu activation function in the decoder and check the performance. "
   ]
  },
  {
   "cell_type": "code",
   "execution_count": 141,
   "metadata": {
    "collapsed": true
   },
   "outputs": [],
   "source": [
    "autoencoder = Model(inputImg, decoded)"
   ]
  },
  {
   "cell_type": "code",
   "execution_count": 142,
   "metadata": {},
   "outputs": [
    {
     "name": "stdout",
     "output_type": "stream",
     "text": [
      "_________________________________________________________________\n",
      "Layer (type)                 Output Shape              Param #   \n",
      "=================================================================\n",
      "input_10 (InputLayer)        (None, 784)               0         \n",
      "_________________________________________________________________\n",
      "dense_24 (Dense)             (None, 32)                25120     \n",
      "_________________________________________________________________\n",
      "dense_25 (Dense)             (None, 784)               25872     \n",
      "=================================================================\n",
      "Total params: 50,992\n",
      "Trainable params: 50,992\n",
      "Non-trainable params: 0\n",
      "_________________________________________________________________\n"
     ]
    }
   ],
   "source": [
    "autoencoder.summary()"
   ]
  },
  {
   "cell_type": "code",
   "execution_count": 143,
   "metadata": {},
   "outputs": [
    {
     "data": {
      "text/plain": [
       "25120"
      ]
     },
     "execution_count": 143,
     "metadata": {},
     "output_type": "execute_result"
    }
   ],
   "source": [
    "785 * 32"
   ]
  },
  {
   "cell_type": "code",
   "execution_count": 144,
   "metadata": {},
   "outputs": [
    {
     "data": {
      "text/plain": [
       "25872"
      ]
     },
     "execution_count": 144,
     "metadata": {},
     "output_type": "execute_result"
    }
   ],
   "source": [
    "33 * 784"
   ]
  },
  {
   "cell_type": "code",
   "execution_count": 145,
   "metadata": {},
   "outputs": [
    {
     "data": {
      "text/plain": [
       "keras.engine.training.Model"
      ]
     },
     "execution_count": 145,
     "metadata": {},
     "output_type": "execute_result"
    }
   ],
   "source": [
    "type(autoencoder)"
   ]
  },
  {
   "cell_type": "markdown",
   "metadata": {},
   "source": [
    "Let's also create separate encoder and decoder models. "
   ]
  },
  {
   "cell_type": "code",
   "execution_count": 146,
   "metadata": {
    "collapsed": true
   },
   "outputs": [],
   "source": [
    "encoder = Model(inputImg, encoded)"
   ]
  },
  {
   "cell_type": "code",
   "execution_count": 147,
   "metadata": {
    "collapsed": true
   },
   "outputs": [],
   "source": [
    "encodedInput = Input(shape=(encodingDim,))\n",
    "decoderLayer = autoencoder.layers[-1]\n",
    "decoder = Model(encodedInput, decoderLayer(encodedInput))"
   ]
  },
  {
   "cell_type": "markdown",
   "metadata": {},
   "source": [
    "Let's build the same network using the Sequential class of keras. "
   ]
  },
  {
   "cell_type": "code",
   "execution_count": 148,
   "metadata": {
    "collapsed": true
   },
   "outputs": [],
   "source": [
    "autoencoderSeq = Sequential()"
   ]
  },
  {
   "cell_type": "code",
   "execution_count": 149,
   "metadata": {
    "collapsed": true
   },
   "outputs": [],
   "source": [
    "autoencoderSeq.add(Dense(encodingDim, input_shape=(784,), activation='relu'))"
   ]
  },
  {
   "cell_type": "code",
   "execution_count": 150,
   "metadata": {
    "collapsed": true
   },
   "outputs": [],
   "source": [
    "autoencoderSeq.add(Dense(784, activation='sigmoid'))"
   ]
  },
  {
   "cell_type": "code",
   "execution_count": 151,
   "metadata": {},
   "outputs": [
    {
     "name": "stdout",
     "output_type": "stream",
     "text": [
      "_________________________________________________________________\n",
      "Layer (type)                 Output Shape              Param #   \n",
      "=================================================================\n",
      "dense_26 (Dense)             (None, 32)                25120     \n",
      "_________________________________________________________________\n",
      "dense_27 (Dense)             (None, 784)               25872     \n",
      "=================================================================\n",
      "Total params: 50,992\n",
      "Trainable params: 50,992\n",
      "Non-trainable params: 0\n",
      "_________________________________________________________________\n"
     ]
    }
   ],
   "source": [
    "autoencoderSeq.summary()"
   ]
  },
  {
   "cell_type": "code",
   "execution_count": 152,
   "metadata": {},
   "outputs": [
    {
     "data": {
      "text/plain": [
       "keras.models.Sequential"
      ]
     },
     "execution_count": 152,
     "metadata": {},
     "output_type": "execute_result"
    }
   ],
   "source": [
    "type(autoencoderSeq)"
   ]
  },
  {
   "cell_type": "markdown",
   "metadata": {},
   "source": [
    "Now, let's train the network to reconstruct MNIST digits"
   ]
  },
  {
   "cell_type": "code",
   "execution_count": 153,
   "metadata": {
    "collapsed": true
   },
   "outputs": [],
   "source": [
    "autoencoder.compile(optimizer='adadelta', loss='binary_crossentropy')"
   ]
  },
  {
   "cell_type": "code",
   "execution_count": 154,
   "metadata": {
    "collapsed": true
   },
   "outputs": [],
   "source": [
    "autoencoderSeq.compile(optimizer='adadelta', loss='binary_crossentropy')"
   ]
  },
  {
   "cell_type": "code",
   "execution_count": 155,
   "metadata": {
    "collapsed": true
   },
   "outputs": [],
   "source": [
    "from keras.datasets import mnist\n",
    "import numpy as np"
   ]
  },
  {
   "cell_type": "code",
   "execution_count": 156,
   "metadata": {
    "collapsed": true
   },
   "outputs": [],
   "source": [
    "(Xtrain, ytrain), (Xtest, ytest) = mnist.load_data()"
   ]
  },
  {
   "cell_type": "code",
   "execution_count": 157,
   "metadata": {},
   "outputs": [
    {
     "data": {
      "text/plain": [
       "(60000, 28, 28)"
      ]
     },
     "execution_count": 157,
     "metadata": {},
     "output_type": "execute_result"
    }
   ],
   "source": [
    "Xtrain.shape"
   ]
  },
  {
   "cell_type": "code",
   "execution_count": 158,
   "metadata": {},
   "outputs": [
    {
     "data": {
      "text/plain": [
       "(10000, 28, 28)"
      ]
     },
     "execution_count": 158,
     "metadata": {},
     "output_type": "execute_result"
    }
   ],
   "source": [
    "Xtest.shape"
   ]
  },
  {
   "cell_type": "code",
   "execution_count": 159,
   "metadata": {},
   "outputs": [
    {
     "data": {
      "text/plain": [
       "(10000,)"
      ]
     },
     "execution_count": 159,
     "metadata": {},
     "output_type": "execute_result"
    }
   ],
   "source": [
    "ytest.shape"
   ]
  },
  {
   "cell_type": "code",
   "execution_count": 160,
   "metadata": {
    "collapsed": true
   },
   "outputs": [],
   "source": [
    "XtrainScaled = Xtrain.astype('float32') / 255."
   ]
  },
  {
   "cell_type": "code",
   "execution_count": 161,
   "metadata": {
    "collapsed": true
   },
   "outputs": [],
   "source": [
    "XtestScaled = Xtest.astype('float32') / 255."
   ]
  },
  {
   "cell_type": "markdown",
   "metadata": {},
   "source": [
    "Can think of the above as MaxAbsScaler"
   ]
  },
  {
   "cell_type": "code",
   "execution_count": 162,
   "metadata": {
    "collapsed": true
   },
   "outputs": [],
   "source": [
    "import numpy as np"
   ]
  },
  {
   "cell_type": "code",
   "execution_count": 163,
   "metadata": {},
   "outputs": [
    {
     "data": {
      "text/plain": [
       "784"
      ]
     },
     "execution_count": 163,
     "metadata": {},
     "output_type": "execute_result"
    }
   ],
   "source": [
    "np.prod(XtrainScaled.shape[1:])"
   ]
  },
  {
   "cell_type": "code",
   "execution_count": 164,
   "metadata": {
    "collapsed": true
   },
   "outputs": [],
   "source": [
    "XtrainScaledFlatten = XtrainScaled.reshape((len(XtrainScaled), np.prod(XtrainScaled.shape[1:])))"
   ]
  },
  {
   "cell_type": "code",
   "execution_count": 165,
   "metadata": {
    "collapsed": true
   },
   "outputs": [],
   "source": [
    "XtestScaledFlatten = XtestScaled.reshape((len(XtestScaled), np.prod(XtestScaled.shape[1:])))"
   ]
  },
  {
   "cell_type": "code",
   "execution_count": 166,
   "metadata": {},
   "outputs": [
    {
     "data": {
      "text/plain": [
       "array([[0., 0., 0., ..., 0., 0., 0.],\n",
       "       [0., 0., 0., ..., 0., 0., 0.],\n",
       "       [0., 0., 0., ..., 0., 0., 0.],\n",
       "       ...,\n",
       "       [0., 0., 0., ..., 0., 0., 0.],\n",
       "       [0., 0., 0., ..., 0., 0., 0.],\n",
       "       [0., 0., 0., ..., 0., 0., 0.]], dtype=float32)"
      ]
     },
     "execution_count": 166,
     "metadata": {},
     "output_type": "execute_result"
    }
   ],
   "source": [
    "XtrainScaledFlatten"
   ]
  },
  {
   "cell_type": "markdown",
   "metadata": {},
   "source": [
    "Training the autoencoder"
   ]
  },
  {
   "cell_type": "code",
   "execution_count": 167,
   "metadata": {},
   "outputs": [
    {
     "name": "stdout",
     "output_type": "stream",
     "text": [
      "Train on 60000 samples, validate on 10000 samples\n",
      "Epoch 1/100\n",
      "60000/60000 [==============================] - 2s 36us/step - loss: 0.3594 - val_loss: 0.2710\n",
      "Epoch 2/100\n",
      "60000/60000 [==============================] - 2s 34us/step - loss: 0.2638 - val_loss: 0.2530\n",
      "Epoch 3/100\n",
      "60000/60000 [==============================] - 2s 35us/step - loss: 0.2428 - val_loss: 0.2307\n",
      "Epoch 4/100\n",
      "60000/60000 [==============================] - 2s 35us/step - loss: 0.2226 - val_loss: 0.2124\n",
      "Epoch 5/100\n",
      "60000/60000 [==============================] - 2s 35us/step - loss: 0.2071 - val_loss: 0.1997\n",
      "Epoch 6/100\n",
      "60000/60000 [==============================] - 2s 35us/step - loss: 0.1961 - val_loss: 0.1901\n",
      "Epoch 7/100\n",
      "60000/60000 [==============================] - 2s 35us/step - loss: 0.1877 - val_loss: 0.1826\n",
      "Epoch 8/100\n",
      "60000/60000 [==============================] - 2s 38us/step - loss: 0.1808 - val_loss: 0.1762\n",
      "Epoch 9/100\n",
      "60000/60000 [==============================] - 2s 38us/step - loss: 0.1747 - val_loss: 0.1706\n",
      "Epoch 10/100\n",
      "60000/60000 [==============================] - 2s 36us/step - loss: 0.1694 - val_loss: 0.1654\n",
      "Epoch 11/100\n",
      "60000/60000 [==============================] - 3s 45us/step - loss: 0.1646 - val_loss: 0.1608\n",
      "Epoch 12/100\n",
      "60000/60000 [==============================] - 3s 44us/step - loss: 0.1602 - val_loss: 0.1568\n",
      "Epoch 13/100\n",
      "60000/60000 [==============================] - 2s 37us/step - loss: 0.1562 - val_loss: 0.1530\n",
      "Epoch 14/100\n",
      "60000/60000 [==============================] - 2s 37us/step - loss: 0.1526 - val_loss: 0.1494\n",
      "Epoch 15/100\n",
      "60000/60000 [==============================] - 2s 37us/step - loss: 0.1492 - val_loss: 0.1462\n",
      "Epoch 16/100\n",
      "60000/60000 [==============================] - 2s 37us/step - loss: 0.1461 - val_loss: 0.1433\n",
      "Epoch 17/100\n",
      "60000/60000 [==============================] - 2s 37us/step - loss: 0.1433 - val_loss: 0.1404\n",
      "Epoch 18/100\n",
      "60000/60000 [==============================] - 2s 37us/step - loss: 0.1406 - val_loss: 0.1378\n",
      "Epoch 19/100\n",
      "60000/60000 [==============================] - 2s 37us/step - loss: 0.1380 - val_loss: 0.1354\n",
      "Epoch 20/100\n",
      "60000/60000 [==============================] - 2s 37us/step - loss: 0.1357 - val_loss: 0.1330\n",
      "Epoch 21/100\n",
      "60000/60000 [==============================] - 2s 38us/step - loss: 0.1334 - val_loss: 0.1309\n",
      "Epoch 22/100\n",
      "60000/60000 [==============================] - 2s 37us/step - loss: 0.1313 - val_loss: 0.1287\n",
      "Epoch 23/100\n",
      "60000/60000 [==============================] - 2s 37us/step - loss: 0.1292 - val_loss: 0.1267\n",
      "Epoch 24/100\n",
      "60000/60000 [==============================] - 2s 37us/step - loss: 0.1273 - val_loss: 0.1248\n",
      "Epoch 25/100\n",
      "60000/60000 [==============================] - 2s 38us/step - loss: 0.1255 - val_loss: 0.1229\n",
      "Epoch 26/100\n",
      "60000/60000 [==============================] - 2s 38us/step - loss: 0.1238 - val_loss: 0.1213\n",
      "Epoch 27/100\n",
      "60000/60000 [==============================] - 2s 37us/step - loss: 0.1221 - val_loss: 0.1197\n",
      "Epoch 28/100\n",
      "60000/60000 [==============================] - 2s 37us/step - loss: 0.1206 - val_loss: 0.1182\n",
      "Epoch 29/100\n",
      "60000/60000 [==============================] - 2s 38us/step - loss: 0.1192 - val_loss: 0.1169\n",
      "Epoch 30/100\n",
      "60000/60000 [==============================] - 2s 38us/step - loss: 0.1179 - val_loss: 0.1157\n",
      "Epoch 31/100\n",
      "60000/60000 [==============================] - 2s 37us/step - loss: 0.1167 - val_loss: 0.1144\n",
      "Epoch 32/100\n",
      "60000/60000 [==============================] - 2s 37us/step - loss: 0.1156 - val_loss: 0.1133\n",
      "Epoch 33/100\n",
      "60000/60000 [==============================] - 2s 37us/step - loss: 0.1145 - val_loss: 0.1123\n",
      "Epoch 34/100\n",
      "60000/60000 [==============================] - 2s 38us/step - loss: 0.1135 - val_loss: 0.1114\n",
      "Epoch 35/100\n",
      "60000/60000 [==============================] - 2s 37us/step - loss: 0.1126 - val_loss: 0.1105\n",
      "Epoch 36/100\n",
      "60000/60000 [==============================] - 2s 37us/step - loss: 0.1118 - val_loss: 0.1097\n",
      "Epoch 37/100\n",
      "60000/60000 [==============================] - 2s 38us/step - loss: 0.1110 - val_loss: 0.1089\n",
      "Epoch 38/100\n",
      "60000/60000 [==============================] - 2s 38us/step - loss: 0.1103 - val_loss: 0.1082\n",
      "Epoch 39/100\n",
      "60000/60000 [==============================] - 2s 37us/step - loss: 0.1096 - val_loss: 0.1075\n",
      "Epoch 40/100\n",
      "60000/60000 [==============================] - 2s 37us/step - loss: 0.1089 - val_loss: 0.1069\n",
      "Epoch 41/100\n",
      "60000/60000 [==============================] - 2s 38us/step - loss: 0.1083 - val_loss: 0.1064\n",
      "Epoch 42/100\n",
      "60000/60000 [==============================] - 2s 37us/step - loss: 0.1078 - val_loss: 0.1058\n",
      "Epoch 43/100\n",
      "60000/60000 [==============================] - 2s 38us/step - loss: 0.1073 - val_loss: 0.1053\n",
      "Epoch 44/100\n",
      "60000/60000 [==============================] - 2s 37us/step - loss: 0.1068 - val_loss: 0.1049\n",
      "Epoch 45/100\n",
      "60000/60000 [==============================] - 2s 38us/step - loss: 0.1063 - val_loss: 0.1044\n",
      "Epoch 46/100\n",
      "60000/60000 [==============================] - 2s 38us/step - loss: 0.1059 - val_loss: 0.1040\n",
      "Epoch 47/100\n",
      "60000/60000 [==============================] - 2s 38us/step - loss: 0.1055 - val_loss: 0.1036\n",
      "Epoch 48/100\n",
      "60000/60000 [==============================] - 2s 38us/step - loss: 0.1052 - val_loss: 0.1033\n",
      "Epoch 49/100\n",
      "60000/60000 [==============================] - 2s 38us/step - loss: 0.1048 - val_loss: 0.1030\n",
      "Epoch 50/100\n",
      "60000/60000 [==============================] - 2s 38us/step - loss: 0.1045 - val_loss: 0.1027\n",
      "Epoch 51/100\n",
      "60000/60000 [==============================] - 2s 38us/step - loss: 0.1042 - val_loss: 0.1024\n",
      "Epoch 52/100\n",
      "60000/60000 [==============================] - 2s 38us/step - loss: 0.1039 - val_loss: 0.1022\n",
      "Epoch 53/100\n",
      "60000/60000 [==============================] - 2s 40us/step - loss: 0.1037 - val_loss: 0.1019\n",
      "Epoch 54/100\n",
      "60000/60000 [==============================] - 2s 39us/step - loss: 0.1035 - val_loss: 0.1017\n",
      "Epoch 55/100\n",
      "60000/60000 [==============================] - 2s 40us/step - loss: 0.1032 - val_loss: 0.1015\n",
      "Epoch 56/100\n",
      "60000/60000 [==============================] - 2s 41us/step - loss: 0.1030 - val_loss: 0.1013\n",
      "Epoch 57/100\n",
      "60000/60000 [==============================] - 2s 40us/step - loss: 0.1029 - val_loss: 0.1011\n",
      "Epoch 58/100\n",
      "60000/60000 [==============================] - 2s 41us/step - loss: 0.1027 - val_loss: 0.1010\n",
      "Epoch 59/100\n",
      "60000/60000 [==============================] - 2s 41us/step - loss: 0.1025 - val_loss: 0.1008\n",
      "Epoch 60/100\n",
      "60000/60000 [==============================] - 2s 40us/step - loss: 0.1024 - val_loss: 0.1006\n",
      "Epoch 61/100\n",
      "60000/60000 [==============================] - 2s 40us/step - loss: 0.1022 - val_loss: 0.1005\n",
      "Epoch 62/100\n",
      "60000/60000 [==============================] - 2s 41us/step - loss: 0.1021 - val_loss: 0.1004\n",
      "Epoch 63/100\n",
      "60000/60000 [==============================] - 2s 40us/step - loss: 0.1019 - val_loss: 0.1003\n",
      "Epoch 64/100\n",
      "60000/60000 [==============================] - 3s 42us/step - loss: 0.1018 - val_loss: 0.1002\n",
      "Epoch 65/100\n",
      "60000/60000 [==============================] - 2s 41us/step - loss: 0.1017 - val_loss: 0.1000\n",
      "Epoch 66/100\n",
      "60000/60000 [==============================] - 2s 39us/step - loss: 0.1016 - val_loss: 0.0999\n",
      "Epoch 67/100\n",
      "60000/60000 [==============================] - 2s 39us/step - loss: 0.1015 - val_loss: 0.0998\n",
      "Epoch 68/100\n",
      "60000/60000 [==============================] - 2s 41us/step - loss: 0.1014 - val_loss: 0.0997\n",
      "Epoch 69/100\n",
      "60000/60000 [==============================] - 2s 41us/step - loss: 0.1013 - val_loss: 0.0997\n",
      "Epoch 70/100\n",
      "60000/60000 [==============================] - 3s 42us/step - loss: 0.1012 - val_loss: 0.0996\n",
      "Epoch 71/100\n",
      "60000/60000 [==============================] - 2s 31us/step - loss: 0.1011 - val_loss: 0.0995\n",
      "Epoch 72/100\n",
      "60000/60000 [==============================] - 2s 28us/step - loss: 0.1010 - val_loss: 0.0994\n",
      "Epoch 73/100\n",
      "60000/60000 [==============================] - 2s 29us/step - loss: 0.1010 - val_loss: 0.0993\n",
      "Epoch 74/100\n",
      "60000/60000 [==============================] - 2s 29us/step - loss: 0.1009 - val_loss: 0.0993\n",
      "Epoch 75/100\n",
      "60000/60000 [==============================] - 2s 28us/step - loss: 0.1008 - val_loss: 0.0992\n",
      "Epoch 76/100\n",
      "60000/60000 [==============================] - 2s 29us/step - loss: 0.1007 - val_loss: 0.0991\n",
      "Epoch 77/100\n"
     ]
    },
    {
     "name": "stdout",
     "output_type": "stream",
     "text": [
      "60000/60000 [==============================] - 2s 29us/step - loss: 0.1007 - val_loss: 0.0991\n",
      "Epoch 78/100\n",
      "60000/60000 [==============================] - 2s 29us/step - loss: 0.1006 - val_loss: 0.0990\n",
      "Epoch 79/100\n",
      "60000/60000 [==============================] - 2s 29us/step - loss: 0.1005 - val_loss: 0.0989\n",
      "Epoch 80/100\n",
      "60000/60000 [==============================] - 2s 29us/step - loss: 0.1005 - val_loss: 0.0989\n",
      "Epoch 81/100\n",
      "60000/60000 [==============================] - 2s 29us/step - loss: 0.1004 - val_loss: 0.0988\n",
      "Epoch 82/100\n",
      "60000/60000 [==============================] - 2s 30us/step - loss: 0.1004 - val_loss: 0.0988\n",
      "Epoch 83/100\n",
      "60000/60000 [==============================] - 105s 2ms/step - loss: 0.1003 - val_loss: 0.0987\n",
      "Epoch 84/100\n",
      "60000/60000 [==============================] - 3s 55us/step - loss: 0.1002 - val_loss: 0.0987\n",
      "Epoch 85/100\n",
      "60000/60000 [==============================] - 2s 39us/step - loss: 0.1002 - val_loss: 0.0986\n",
      "Epoch 86/100\n",
      "60000/60000 [==============================] - 2s 38us/step - loss: 0.1001 - val_loss: 0.0986\n",
      "Epoch 87/100\n",
      "60000/60000 [==============================] - 2s 39us/step - loss: 0.1001 - val_loss: 0.0985\n",
      "Epoch 88/100\n",
      "60000/60000 [==============================] - 2s 38us/step - loss: 0.1000 - val_loss: 0.0985\n",
      "Epoch 89/100\n",
      "60000/60000 [==============================] - 2s 38us/step - loss: 0.1000 - val_loss: 0.0984\n",
      "Epoch 90/100\n",
      "60000/60000 [==============================] - 2s 38us/step - loss: 0.0999 - val_loss: 0.0984\n",
      "Epoch 91/100\n",
      "60000/60000 [==============================] - 2s 39us/step - loss: 0.0999 - val_loss: 0.0983\n",
      "Epoch 92/100\n",
      "60000/60000 [==============================] - 2s 39us/step - loss: 0.0998 - val_loss: 0.0983\n",
      "Epoch 93/100\n",
      "60000/60000 [==============================] - 2s 40us/step - loss: 0.0998 - val_loss: 0.0983\n",
      "Epoch 94/100\n",
      "60000/60000 [==============================] - 2s 41us/step - loss: 0.0998 - val_loss: 0.0982\n",
      "Epoch 95/100\n",
      "60000/60000 [==============================] - 2s 39us/step - loss: 0.0997 - val_loss: 0.0982\n",
      "Epoch 96/100\n",
      "60000/60000 [==============================] - 3s 42us/step - loss: 0.0997 - val_loss: 0.0982\n",
      "Epoch 97/100\n",
      "60000/60000 [==============================] - 3s 43us/step - loss: 0.0996 - val_loss: 0.0981\n",
      "Epoch 98/100\n",
      "60000/60000 [==============================] - 2s 39us/step - loss: 0.0996 - val_loss: 0.0981\n",
      "Epoch 99/100\n",
      "60000/60000 [==============================] - 2s 39us/step - loss: 0.0996 - val_loss: 0.0980\n",
      "Epoch 100/100\n",
      "60000/60000 [==============================] - 2s 39us/step - loss: 0.0995 - val_loss: 0.0980\n"
     ]
    }
   ],
   "source": [
    "history = autoencoder.fit(XtrainScaledFlatten, XtrainScaledFlatten, epochs=100, \n",
    "                          batch_size=256, shuffle=True, verbose=1, validation_data=(XtestScaledFlatten, XtestScaledFlatten)).history"
   ]
  },
  {
   "cell_type": "code",
   "execution_count": 168,
   "metadata": {
    "collapsed": true
   },
   "outputs": [],
   "source": [
    "import matplotlib.pyplot as plt\n",
    "%matplotlib inline"
   ]
  },
  {
   "cell_type": "code",
   "execution_count": 171,
   "metadata": {},
   "outputs": [
    {
     "data": {
      "image/png": "[encoded data removed]",
      "text/plain": [
       "<matplotlib.figure.Figure at 0x10e0904a8>"
      ]
     },
     "metadata": {},
     "output_type": "display_data"
    }
   ],
   "source": [
    "plt.plot(history['loss']);\n",
    "plt.plot(history['val_loss']);\n",
    "plt.ylabel('loss')\n",
    "plt.xlabel('epoch')\n",
    "plt.legend(['training set loss', 'validation set loss']);"
   ]
  },
  {
   "cell_type": "code",
   "execution_count": 146,
   "metadata": {
    "collapsed": true
   },
   "outputs": [],
   "source": [
    "encoder = Model(inputImg, encoded)"
   ]
  },
  {
   "cell_type": "code",
   "execution_count": 147,
   "metadata": {
    "collapsed": true
   },
   "outputs": [],
   "source": [
    "encodedInput = Input(shape=(encodingDim,))\n",
    "decoderLayer = autoencoder.layers[-1]\n",
    "decoder = Model(encodedInput, decoderLayer(encodedInput))"
   ]
  },
  {
   "cell_type": "code",
   "execution_count": 172,
   "metadata": {},
   "outputs": [],
   "source": [
    "encodedImages = encoder.predict(XtestScaledFlatten)"
   ]
  },
  {
   "cell_type": "code",
   "execution_count": 173,
   "metadata": {},
   "outputs": [],
   "source": [
    "decodedImages = decoder.predict(encodedImages)"
   ]
  },
  {
   "cell_type": "code",
   "execution_count": 174,
   "metadata": {},
   "outputs": [
    {
     "data": {
      "image/png": "[encoded data removed]",
      "text/plain": [
       "<matplotlib.figure.Figure at 0x138ba0630>"
      ]
     },
     "metadata": {},
     "output_type": "display_data"
    }
   ],
   "source": [
    "import matplotlib.pyplot as plt\n",
    "\n",
    "n = 10 #how many number of digits we will display\n",
    "\n",
    "plt.figure(figsize=(20,4))\n",
    "\n",
    "for i in range(n):\n",
    "    \n",
    "    ax = plt.subplot(2, n, i+1)\n",
    "    plt.imshow(XtestScaledFlatten[i].reshape(28, 28))\n",
    "    plt.gray()\n",
    "    ax.get_xaxis().set_visible(False)\n",
    "    ax.get_yaxis().set_visible(False)\n",
    "    \n",
    "    ax = plt.subplot(2, n, i+1+n)\n",
    "    plt.imshow(decodedImages[i].reshape(28, 28))\n",
    "    plt.gray()\n",
    "    ax.get_xaxis().set_visible(False)\n",
    "    ax.get_yaxis().set_visible(False)\n",
    "plt.show()"
   ]
  },
  {
   "cell_type": "markdown",
   "metadata": {},
   "source": [
    "### Adding sparsity constraint to autoencoders"
   ]
  },
  {
   "cell_type": "code",
   "execution_count": 193,
   "metadata": {
    "collapsed": true
   },
   "outputs": [],
   "source": [
    "from keras import regularizers\n",
    "\n",
    "encodingDim = 32\n",
    "\n",
    "inputImg = Input(shape=(784,))\n",
    "# add a Dense layer with a L1 activity regularizer\n",
    "encoded = Dense(encodingDim, activation='relu',\n",
    "                activity_regularizer=regularizers.l1(10e-5))(inputImg)\n",
    "\n",
    "decoded = Dense(784, activation='sigmoid')(encoded)\n",
    "\n",
    "autoencoder = Model(inputImg, decoded)"
   ]
  },
  {
   "cell_type": "code",
   "execution_count": 194,
   "metadata": {},
   "outputs": [
    {
     "name": "stdout",
     "output_type": "stream",
     "text": [
      "Train on 60000 samples, validate on 10000 samples\n",
      "Epoch 1/200\n",
      "60000/60000 [==============================] - 2s 40us/step - loss: 0.6731 - val_loss: 0.6485\n",
      "Epoch 2/200\n",
      "60000/60000 [==============================] - 2s 35us/step - loss: 0.6284 - val_loss: 0.6090\n",
      "Epoch 3/200\n",
      "60000/60000 [==============================] - 2s 35us/step - loss: 0.5916 - val_loss: 0.5749\n",
      "Epoch 4/200\n",
      "60000/60000 [==============================] - 2s 34us/step - loss: 0.5598 - val_loss: 0.5454\n",
      "Epoch 5/200\n",
      "60000/60000 [==============================] - 2s 35us/step - loss: 0.5323 - val_loss: 0.5198\n",
      "Epoch 6/200\n",
      "60000/60000 [==============================] - 2s 37us/step - loss: 0.5084 - val_loss: 0.4975\n",
      "Epoch 7/200\n",
      "60000/60000 [==============================] - 2s 37us/step - loss: 0.4875 - val_loss: 0.4780\n",
      "Epoch 8/200\n",
      "60000/60000 [==============================] - 2s 36us/step - loss: 0.4692 - val_loss: 0.4609\n",
      "Epoch 9/200\n",
      "60000/60000 [==============================] - 2s 38us/step - loss: 0.4531 - val_loss: 0.4457\n",
      "Epoch 10/200\n",
      "60000/60000 [==============================] - 2s 38us/step - loss: 0.4389 - val_loss: 0.4324\n",
      "Epoch 11/200\n",
      "60000/60000 [==============================] - 2s 37us/step - loss: 0.4262 - val_loss: 0.4205\n",
      "Epoch 12/200\n",
      "60000/60000 [==============================] - 2s 38us/step - loss: 0.4150 - val_loss: 0.4098\n",
      "Epoch 13/200\n",
      "60000/60000 [==============================] - 3s 42us/step - loss: 0.4049 - val_loss: 0.4003\n",
      "Epoch 14/200\n",
      "60000/60000 [==============================] - 3s 42us/step - loss: 0.3959 - val_loss: 0.3918\n",
      "Epoch 15/200\n",
      "60000/60000 [==============================] - 2s 35us/step - loss: 0.3877 - val_loss: 0.3840\n",
      "Epoch 16/200\n",
      "60000/60000 [==============================] - 2s 35us/step - loss: 0.3804 - val_loss: 0.3771\n",
      "Epoch 17/200\n",
      "60000/60000 [==============================] - 2s 36us/step - loss: 0.3737 - val_loss: 0.3707\n",
      "Epoch 18/200\n",
      "60000/60000 [==============================] - 2s 35us/step - loss: 0.3676 - val_loss: 0.3649\n",
      "Epoch 19/200\n",
      "60000/60000 [==============================] - 2s 36us/step - loss: 0.3621 - val_loss: 0.3596\n",
      "Epoch 20/200\n",
      "60000/60000 [==============================] - 2s 36us/step - loss: 0.3570 - val_loss: 0.3548\n",
      "Epoch 21/200\n",
      "60000/60000 [==============================] - 2s 36us/step - loss: 0.3524 - val_loss: 0.3503\n",
      "Epoch 22/200\n",
      "60000/60000 [==============================] - 2s 35us/step - loss: 0.3481 - val_loss: 0.3463\n",
      "Epoch 23/200\n",
      "60000/60000 [==============================] - 2s 36us/step - loss: 0.3442 - val_loss: 0.3425\n",
      "Epoch 24/200\n",
      "60000/60000 [==============================] - 2s 36us/step - loss: 0.3406 - val_loss: 0.3390\n",
      "Epoch 25/200\n",
      "60000/60000 [==============================] - 2s 36us/step - loss: 0.3372 - val_loss: 0.3357\n",
      "Epoch 26/200\n",
      "60000/60000 [==============================] - 2s 36us/step - loss: 0.3341 - val_loss: 0.3327\n",
      "Epoch 27/200\n",
      "60000/60000 [==============================] - 2s 36us/step - loss: 0.3312 - val_loss: 0.3299\n",
      "Epoch 28/200\n",
      "60000/60000 [==============================] - 3s 52us/step - loss: 0.3285 - val_loss: 0.3273\n",
      "Epoch 29/200\n",
      "60000/60000 [==============================] - 2s 42us/step - loss: 0.3259 - val_loss: 0.3249\n",
      "Epoch 30/200\n",
      "60000/60000 [==============================] - 2s 39us/step - loss: 0.3236 - val_loss: 0.3226\n",
      "Epoch 31/200\n",
      "60000/60000 [==============================] - 2s 39us/step - loss: 0.3213 - val_loss: 0.3204\n",
      "Epoch 32/200\n",
      "60000/60000 [==============================] - 2s 40us/step - loss: 0.3193 - val_loss: 0.3184\n",
      "Epoch 33/200\n",
      "60000/60000 [==============================] - 2s 40us/step - loss: 0.3173 - val_loss: 0.3165\n",
      "Epoch 34/200\n",
      "60000/60000 [==============================] - 2s 40us/step - loss: 0.3155 - val_loss: 0.3147\n",
      "Epoch 35/200\n",
      "60000/60000 [==============================] - 2s 39us/step - loss: 0.3138 - val_loss: 0.3131\n",
      "Epoch 36/200\n",
      "60000/60000 [==============================] - 2s 40us/step - loss: 0.3121 - val_loss: 0.3115\n",
      "Epoch 37/200\n",
      "60000/60000 [==============================] - 3s 42us/step - loss: 0.3106 - val_loss: 0.3100\n",
      "Epoch 38/200\n",
      "60000/60000 [==============================] - 2s 40us/step - loss: 0.3091 - val_loss: 0.3085\n",
      "Epoch 39/200\n",
      "60000/60000 [==============================] - 2s 40us/step - loss: 0.3077 - val_loss: 0.3072\n",
      "Epoch 40/200\n",
      "60000/60000 [==============================] - 2s 41us/step - loss: 0.3064 - val_loss: 0.3059\n",
      "Epoch 41/200\n",
      "60000/60000 [==============================] - 2s 40us/step - loss: 0.3052 - val_loss: 0.3047\n",
      "Epoch 42/200\n",
      "60000/60000 [==============================] - 2s 41us/step - loss: 0.3040 - val_loss: 0.3035\n",
      "Epoch 43/200\n",
      "60000/60000 [==============================] - 2s 41us/step - loss: 0.3029 - val_loss: 0.3024\n",
      "Epoch 44/200\n",
      "60000/60000 [==============================] - 2s 41us/step - loss: 0.3018 - val_loss: 0.3014\n",
      "Epoch 45/200\n",
      "60000/60000 [==============================] - 2s 41us/step - loss: 0.3008 - val_loss: 0.3004\n",
      "Epoch 46/200\n",
      "60000/60000 [==============================] - 2s 41us/step - loss: 0.2998 - val_loss: 0.2994\n",
      "Epoch 47/200\n",
      "60000/60000 [==============================] - 2s 40us/step - loss: 0.2989 - val_loss: 0.2985\n",
      "Epoch 48/200\n",
      "60000/60000 [==============================] - 2s 41us/step - loss: 0.2980 - val_loss: 0.2976\n",
      "Epoch 49/200\n",
      "60000/60000 [==============================] - 3s 42us/step - loss: 0.2971 - val_loss: 0.2968\n",
      "Epoch 50/200\n",
      "60000/60000 [==============================] - 3s 44us/step - loss: 0.2963 - val_loss: 0.2960\n",
      "Epoch 51/200\n",
      "60000/60000 [==============================] - 2s 38us/step - loss: 0.2955 - val_loss: 0.2952\n",
      "Epoch 52/200\n",
      "60000/60000 [==============================] - 2s 39us/step - loss: 0.2948 - val_loss: 0.2945\n",
      "Epoch 53/200\n",
      "60000/60000 [==============================] - 2s 42us/step - loss: 0.2941 - val_loss: 0.2938\n",
      "Epoch 54/200\n",
      "60000/60000 [==============================] - 3s 47us/step - loss: 0.2934 - val_loss: 0.2931\n",
      "Epoch 55/200\n",
      "60000/60000 [==============================] - 2s 41us/step - loss: 0.2927 - val_loss: 0.2925\n",
      "Epoch 56/200\n",
      "60000/60000 [==============================] - 3s 43us/step - loss: 0.2921 - val_loss: 0.2918\n",
      "Epoch 57/200\n",
      "60000/60000 [==============================] - 3s 54us/step - loss: 0.2915 - val_loss: 0.2912\n",
      "Epoch 58/200\n",
      "60000/60000 [==============================] - 3s 42us/step - loss: 0.2909 - val_loss: 0.2906\n",
      "Epoch 59/200\n",
      "60000/60000 [==============================] - 2s 41us/step - loss: 0.2903 - val_loss: 0.2901\n",
      "Epoch 60/200\n",
      "60000/60000 [==============================] - 3s 42us/step - loss: 0.2898 - val_loss: 0.2895\n",
      "Epoch 61/200\n",
      "60000/60000 [==============================] - 3s 42us/step - loss: 0.2892 - val_loss: 0.2890\n",
      "Epoch 62/200\n",
      "60000/60000 [==============================] - 2s 40us/step - loss: 0.2887 - val_loss: 0.2885\n",
      "Epoch 63/200\n",
      "60000/60000 [==============================] - 3s 42us/step - loss: 0.2882 - val_loss: 0.2880\n",
      "Epoch 64/200\n",
      "60000/60000 [==============================] - 3s 42us/step - loss: 0.2877 - val_loss: 0.2875\n",
      "Epoch 65/200\n",
      "60000/60000 [==============================] - 3s 43us/step - loss: 0.2873 - val_loss: 0.2871\n",
      "Epoch 66/200\n",
      "60000/60000 [==============================] - 3s 43us/step - loss: 0.2868 - val_loss: 0.2867\n",
      "Epoch 67/200\n",
      "60000/60000 [==============================] - 3s 42us/step - loss: 0.2864 - val_loss: 0.2862\n",
      "Epoch 68/200\n",
      "60000/60000 [==============================] - 3s 42us/step - loss: 0.2860 - val_loss: 0.2858\n",
      "Epoch 69/200\n",
      "60000/60000 [==============================] - 3s 44us/step - loss: 0.2856 - val_loss: 0.2854\n",
      "Epoch 70/200\n",
      "60000/60000 [==============================] - 2s 42us/step - loss: 0.2852 - val_loss: 0.2850\n",
      "Epoch 71/200\n",
      "60000/60000 [==============================] - 2s 42us/step - loss: 0.2848 - val_loss: 0.2846\n",
      "Epoch 72/200\n",
      "60000/60000 [==============================] - 2s 41us/step - loss: 0.2844 - val_loss: 0.2843\n",
      "Epoch 73/200\n",
      "60000/60000 [==============================] - 2s 41us/step - loss: 0.2841 - val_loss: 0.2839\n",
      "Epoch 74/200\n",
      "60000/60000 [==============================] - 3s 43us/step - loss: 0.2837 - val_loss: 0.2836\n",
      "Epoch 75/200\n",
      "60000/60000 [==============================] - 3s 42us/step - loss: 0.2834 - val_loss: 0.2832\n",
      "Epoch 76/200\n",
      "60000/60000 [==============================] - 3s 43us/step - loss: 0.2831 - val_loss: 0.2829\n",
      "Epoch 77/200\n"
     ]
    },
    {
     "name": "stdout",
     "output_type": "stream",
     "text": [
      "60000/60000 [==============================] - 2s 39us/step - loss: 0.2828 - val_loss: 0.2826\n",
      "Epoch 78/200\n",
      "60000/60000 [==============================] - 2s 39us/step - loss: 0.2825 - val_loss: 0.2823\n",
      "Epoch 79/200\n",
      "60000/60000 [==============================] - 2s 40us/step - loss: 0.2822 - val_loss: 0.2820\n",
      "Epoch 80/200\n",
      "60000/60000 [==============================] - 2s 39us/step - loss: 0.2819 - val_loss: 0.2817\n",
      "Epoch 81/200\n",
      "60000/60000 [==============================] - 3s 42us/step - loss: 0.2816 - val_loss: 0.2814\n",
      "Epoch 82/200\n",
      "60000/60000 [==============================] - 3s 42us/step - loss: 0.2813 - val_loss: 0.2812\n",
      "Epoch 83/200\n",
      "60000/60000 [==============================] - 2s 40us/step - loss: 0.2810 - val_loss: 0.2809\n",
      "Epoch 84/200\n",
      "60000/60000 [==============================] - 2s 40us/step - loss: 0.2808 - val_loss: 0.2806\n",
      "Epoch 85/200\n",
      "60000/60000 [==============================] - 2s 40us/step - loss: 0.2805 - val_loss: 0.2804\n",
      "Epoch 86/200\n",
      "60000/60000 [==============================] - 2s 40us/step - loss: 0.2803 - val_loss: 0.2801\n",
      "Epoch 87/200\n",
      "60000/60000 [==============================] - 2s 40us/step - loss: 0.2800 - val_loss: 0.2799\n",
      "Epoch 88/200\n",
      "60000/60000 [==============================] - 2s 40us/step - loss: 0.2798 - val_loss: 0.2796\n",
      "Epoch 89/200\n",
      "60000/60000 [==============================] - 2s 40us/step - loss: 0.2796 - val_loss: 0.2794\n",
      "Epoch 90/200\n",
      "60000/60000 [==============================] - 2s 40us/step - loss: 0.2793 - val_loss: 0.2792\n",
      "Epoch 91/200\n",
      "60000/60000 [==============================] - 2s 41us/step - loss: 0.2791 - val_loss: 0.2790\n",
      "Epoch 92/200\n",
      "60000/60000 [==============================] - 2s 40us/step - loss: 0.2789 - val_loss: 0.2788\n",
      "Epoch 93/200\n",
      "60000/60000 [==============================] - 2s 40us/step - loss: 0.2787 - val_loss: 0.2785\n",
      "Epoch 94/200\n",
      "60000/60000 [==============================] - 2s 40us/step - loss: 0.2785 - val_loss: 0.2783\n",
      "Epoch 95/200\n",
      "60000/60000 [==============================] - 2s 40us/step - loss: 0.2783 - val_loss: 0.2781\n",
      "Epoch 96/200\n",
      "60000/60000 [==============================] - 2s 40us/step - loss: 0.2781 - val_loss: 0.2780\n",
      "Epoch 97/200\n",
      "60000/60000 [==============================] - 2s 41us/step - loss: 0.2779 - val_loss: 0.2778\n",
      "Epoch 98/200\n",
      "60000/60000 [==============================] - 2s 40us/step - loss: 0.2777 - val_loss: 0.2776\n",
      "Epoch 99/200\n",
      "60000/60000 [==============================] - 2s 40us/step - loss: 0.2775 - val_loss: 0.2774\n",
      "Epoch 100/200\n",
      "60000/60000 [==============================] - 2s 40us/step - loss: 0.2774 - val_loss: 0.2772\n",
      "Epoch 101/200\n",
      "60000/60000 [==============================] - 2s 41us/step - loss: 0.2772 - val_loss: 0.2770\n",
      "Epoch 102/200\n",
      "60000/60000 [==============================] - 2s 41us/step - loss: 0.2770 - val_loss: 0.2769\n",
      "Epoch 103/200\n",
      "60000/60000 [==============================] - 2s 40us/step - loss: 0.2768 - val_loss: 0.2767\n",
      "Epoch 104/200\n",
      "60000/60000 [==============================] - 2s 40us/step - loss: 0.2767 - val_loss: 0.2765\n",
      "Epoch 105/200\n",
      "60000/60000 [==============================] - 2s 41us/step - loss: 0.2765 - val_loss: 0.2764\n",
      "Epoch 106/200\n",
      "60000/60000 [==============================] - 2s 41us/step - loss: 0.2764 - val_loss: 0.2762\n",
      "Epoch 107/200\n",
      "60000/60000 [==============================] - 2s 40us/step - loss: 0.2762 - val_loss: 0.2761\n",
      "Epoch 108/200\n",
      "60000/60000 [==============================] - 2s 41us/step - loss: 0.2761 - val_loss: 0.2759\n",
      "Epoch 109/200\n",
      "60000/60000 [==============================] - 2s 41us/step - loss: 0.2759 - val_loss: 0.2758\n",
      "Epoch 110/200\n",
      "60000/60000 [==============================] - 3s 43us/step - loss: 0.2758 - val_loss: 0.2756\n",
      "Epoch 111/200\n",
      "60000/60000 [==============================] - 3s 43us/step - loss: 0.2756 - val_loss: 0.2755\n",
      "Epoch 112/200\n",
      "60000/60000 [==============================] - 3s 42us/step - loss: 0.2755 - val_loss: 0.2753\n",
      "Epoch 113/200\n",
      "60000/60000 [==============================] - 2s 41us/step - loss: 0.2754 - val_loss: 0.2752\n",
      "Epoch 114/200\n",
      "60000/60000 [==============================] - 2s 41us/step - loss: 0.2752 - val_loss: 0.2751\n",
      "Epoch 115/200\n",
      "60000/60000 [==============================] - 3s 42us/step - loss: 0.2751 - val_loss: 0.2749\n",
      "Epoch 116/200\n",
      "60000/60000 [==============================] - 2s 40us/step - loss: 0.2750 - val_loss: 0.2748\n",
      "Epoch 117/200\n",
      "60000/60000 [==============================] - 2s 42us/step - loss: 0.2748 - val_loss: 0.2747\n",
      "Epoch 118/200\n",
      "60000/60000 [==============================] - 2s 41us/step - loss: 0.2747 - val_loss: 0.2746\n",
      "Epoch 119/200\n",
      "60000/60000 [==============================] - 2s 41us/step - loss: 0.2746 - val_loss: 0.2744\n",
      "Epoch 120/200\n",
      "60000/60000 [==============================] - 2s 41us/step - loss: 0.2745 - val_loss: 0.2743\n",
      "Epoch 121/200\n",
      "60000/60000 [==============================] - 3s 42us/step - loss: 0.2744 - val_loss: 0.2742\n",
      "Epoch 122/200\n",
      "60000/60000 [==============================] - 3s 42us/step - loss: 0.2742 - val_loss: 0.2741\n",
      "Epoch 123/200\n",
      "60000/60000 [==============================] - 2s 40us/step - loss: 0.2741 - val_loss: 0.2740\n",
      "Epoch 124/200\n",
      "60000/60000 [==============================] - 2s 42us/step - loss: 0.2740 - val_loss: 0.2739\n",
      "Epoch 125/200\n",
      "60000/60000 [==============================] - 2s 41us/step - loss: 0.2739 - val_loss: 0.2738\n",
      "Epoch 126/200\n",
      "60000/60000 [==============================] - 3s 42us/step - loss: 0.2738 - val_loss: 0.2737\n",
      "Epoch 127/200\n",
      "60000/60000 [==============================] - 3s 43us/step - loss: 0.2737 - val_loss: 0.2736\n",
      "Epoch 128/200\n",
      "60000/60000 [==============================] - 3s 42us/step - loss: 0.2736 - val_loss: 0.2734\n",
      "Epoch 129/200\n",
      "60000/60000 [==============================] - 3s 42us/step - loss: 0.2735 - val_loss: 0.2733\n",
      "Epoch 130/200\n",
      "60000/60000 [==============================] - 3s 43us/step - loss: 0.2734 - val_loss: 0.2732\n",
      "Epoch 131/200\n",
      "60000/60000 [==============================] - 3s 42us/step - loss: 0.2733 - val_loss: 0.2731\n",
      "Epoch 132/200\n",
      "60000/60000 [==============================] - 3s 42us/step - loss: 0.2732 - val_loss: 0.2731\n",
      "Epoch 133/200\n",
      "60000/60000 [==============================] - 3s 43us/step - loss: 0.2731 - val_loss: 0.2730\n",
      "Epoch 134/200\n",
      "60000/60000 [==============================] - 3s 43us/step - loss: 0.2730 - val_loss: 0.2729\n",
      "Epoch 135/200\n",
      "60000/60000 [==============================] - 2s 41us/step - loss: 0.2729 - val_loss: 0.2728\n",
      "Epoch 136/200\n",
      "60000/60000 [==============================] - 2s 41us/step - loss: 0.2728 - val_loss: 0.2727\n",
      "Epoch 137/200\n",
      "60000/60000 [==============================] - 3s 43us/step - loss: 0.2728 - val_loss: 0.2726\n",
      "Epoch 138/200\n",
      "60000/60000 [==============================] - 3s 43us/step - loss: 0.2727 - val_loss: 0.2725\n",
      "Epoch 139/200\n",
      "60000/60000 [==============================] - 2s 41us/step - loss: 0.2726 - val_loss: 0.2724\n",
      "Epoch 140/200\n",
      "60000/60000 [==============================] - 2s 41us/step - loss: 0.2725 - val_loss: 0.2723\n",
      "Epoch 141/200\n",
      "60000/60000 [==============================] - 3s 46us/step - loss: 0.2724 - val_loss: 0.2723\n",
      "Epoch 142/200\n",
      "60000/60000 [==============================] - 3s 44us/step - loss: 0.2723 - val_loss: 0.2722\n",
      "Epoch 143/200\n",
      "60000/60000 [==============================] - 2s 41us/step - loss: 0.2722 - val_loss: 0.2721\n",
      "Epoch 144/200\n",
      "60000/60000 [==============================] - 2s 41us/step - loss: 0.2722 - val_loss: 0.2720\n",
      "Epoch 145/200\n",
      "60000/60000 [==============================] - 2s 42us/step - loss: 0.2721 - val_loss: 0.2719\n",
      "Epoch 146/200\n",
      "60000/60000 [==============================] - 2s 40us/step - loss: 0.2720 - val_loss: 0.2719\n",
      "Epoch 147/200\n",
      "60000/60000 [==============================] - 3s 42us/step - loss: 0.2719 - val_loss: 0.2718\n",
      "Epoch 148/200\n",
      "60000/60000 [==============================] - 2s 41us/step - loss: 0.2719 - val_loss: 0.2717\n",
      "Epoch 149/200\n",
      "60000/60000 [==============================] - 3s 42us/step - loss: 0.2718 - val_loss: 0.2716\n",
      "Epoch 150/200\n",
      "60000/60000 [==============================] - 2s 41us/step - loss: 0.2717 - val_loss: 0.2716\n",
      "Epoch 151/200\n",
      "60000/60000 [==============================] - 2s 41us/step - loss: 0.2716 - val_loss: 0.2715\n",
      "Epoch 152/200\n",
      "60000/60000 [==============================] - 2s 41us/step - loss: 0.2716 - val_loss: 0.2714\n",
      "Epoch 153/200\n"
     ]
    },
    {
     "name": "stdout",
     "output_type": "stream",
     "text": [
      "60000/60000 [==============================] - 3s 51us/step - loss: 0.2715 - val_loss: 0.2713\n",
      "Epoch 154/200\n",
      "60000/60000 [==============================] - 2s 38us/step - loss: 0.2714 - val_loss: 0.2713\n",
      "Epoch 155/200\n",
      "60000/60000 [==============================] - 2s 39us/step - loss: 0.2714 - val_loss: 0.2712\n",
      "Epoch 156/200\n",
      "60000/60000 [==============================] - 2s 38us/step - loss: 0.2713 - val_loss: 0.2711\n",
      "Epoch 157/200\n",
      "60000/60000 [==============================] - 2s 41us/step - loss: 0.2712 - val_loss: 0.2711\n",
      "Epoch 158/200\n",
      "60000/60000 [==============================] - 2s 38us/step - loss: 0.2712 - val_loss: 0.2710\n",
      "Epoch 159/200\n",
      "60000/60000 [==============================] - 2s 38us/step - loss: 0.2711 - val_loss: 0.2709\n",
      "Epoch 160/200\n",
      "60000/60000 [==============================] - 3s 47us/step - loss: 0.2711 - val_loss: 0.2709\n",
      "Epoch 161/200\n",
      "60000/60000 [==============================] - 2s 41us/step - loss: 0.2710 - val_loss: 0.2708\n",
      "Epoch 162/200\n",
      "60000/60000 [==============================] - 2s 39us/step - loss: 0.2709 - val_loss: 0.2708\n",
      "Epoch 163/200\n",
      "60000/60000 [==============================] - 2s 40us/step - loss: 0.2709 - val_loss: 0.2707\n",
      "Epoch 164/200\n",
      "60000/60000 [==============================] - 2s 40us/step - loss: 0.2708 - val_loss: 0.2706\n",
      "Epoch 165/200\n",
      "60000/60000 [==============================] - 2s 41us/step - loss: 0.2708 - val_loss: 0.2706\n",
      "Epoch 166/200\n",
      "60000/60000 [==============================] - 2s 40us/step - loss: 0.2707 - val_loss: 0.2705\n",
      "Epoch 167/200\n",
      "60000/60000 [==============================] - 2s 40us/step - loss: 0.2706 - val_loss: 0.2705\n",
      "Epoch 168/200\n",
      "60000/60000 [==============================] - 2s 41us/step - loss: 0.2706 - val_loss: 0.2704\n",
      "Epoch 169/200\n",
      "60000/60000 [==============================] - 2s 40us/step - loss: 0.2705 - val_loss: 0.2704\n",
      "Epoch 170/200\n",
      "60000/60000 [==============================] - 2s 41us/step - loss: 0.2705 - val_loss: 0.2703\n",
      "Epoch 171/200\n",
      "60000/60000 [==============================] - 2s 41us/step - loss: 0.2704 - val_loss: 0.2702\n",
      "Epoch 172/200\n",
      "60000/60000 [==============================] - 2s 41us/step - loss: 0.2704 - val_loss: 0.2702\n",
      "Epoch 173/200\n",
      "60000/60000 [==============================] - 2s 40us/step - loss: 0.2703 - val_loss: 0.2701\n",
      "Epoch 174/200\n",
      "60000/60000 [==============================] - 2s 41us/step - loss: 0.2703 - val_loss: 0.2701\n",
      "Epoch 175/200\n",
      "60000/60000 [==============================] - 3s 42us/step - loss: 0.2702 - val_loss: 0.2700\n",
      "Epoch 176/200\n",
      "60000/60000 [==============================] - 2s 41us/step - loss: 0.2702 - val_loss: 0.2700\n",
      "Epoch 177/200\n",
      "60000/60000 [==============================] - 2s 41us/step - loss: 0.2701 - val_loss: 0.2699\n",
      "Epoch 178/200\n",
      "60000/60000 [==============================] - 2s 41us/step - loss: 0.2701 - val_loss: 0.2699\n",
      "Epoch 179/200\n",
      "60000/60000 [==============================] - 2s 41us/step - loss: 0.2700 - val_loss: 0.2698\n",
      "Epoch 180/200\n",
      "60000/60000 [==============================] - 2s 41us/step - loss: 0.2700 - val_loss: 0.2698\n",
      "Epoch 181/200\n",
      "60000/60000 [==============================] - 2s 41us/step - loss: 0.2699 - val_loss: 0.2697\n",
      "Epoch 182/200\n",
      "60000/60000 [==============================] - 2s 42us/step - loss: 0.2699 - val_loss: 0.2697\n",
      "Epoch 183/200\n",
      "60000/60000 [==============================] - 2s 42us/step - loss: 0.2698 - val_loss: 0.2696\n",
      "Epoch 184/200\n",
      "60000/60000 [==============================] - 2s 41us/step - loss: 0.2698 - val_loss: 0.2696\n",
      "Epoch 185/200\n",
      "60000/60000 [==============================] - 2s 40us/step - loss: 0.2697 - val_loss: 0.2695\n",
      "Epoch 186/200\n",
      "60000/60000 [==============================] - 2s 41us/step - loss: 0.2697 - val_loss: 0.2695\n",
      "Epoch 187/200\n",
      "60000/60000 [==============================] - 3s 42us/step - loss: 0.2696 - val_loss: 0.2695\n",
      "Epoch 188/200\n",
      "60000/60000 [==============================] - 2s 41us/step - loss: 0.2696 - val_loss: 0.2694\n",
      "Epoch 189/200\n",
      "60000/60000 [==============================] - 2s 41us/step - loss: 0.2696 - val_loss: 0.2694\n",
      "Epoch 190/200\n",
      "60000/60000 [==============================] - 2s 41us/step - loss: 0.2695 - val_loss: 0.2693\n",
      "Epoch 191/200\n",
      "60000/60000 [==============================] - 3s 42us/step - loss: 0.2695 - val_loss: 0.2693\n",
      "Epoch 192/200\n",
      "60000/60000 [==============================] - 2s 41us/step - loss: 0.2694 - val_loss: 0.2692\n",
      "Epoch 193/200\n",
      "60000/60000 [==============================] - 2s 41us/step - loss: 0.2694 - val_loss: 0.2692\n",
      "Epoch 194/200\n",
      "60000/60000 [==============================] - 2s 42us/step - loss: 0.2693 - val_loss: 0.2692\n",
      "Epoch 195/200\n",
      "60000/60000 [==============================] - 3s 42us/step - loss: 0.2693 - val_loss: 0.2691\n",
      "Epoch 196/200\n",
      "60000/60000 [==============================] - 3s 42us/step - loss: 0.2693 - val_loss: 0.2691\n",
      "Epoch 197/200\n",
      "60000/60000 [==============================] - 3s 42us/step - loss: 0.2692 - val_loss: 0.2690\n",
      "Epoch 198/200\n",
      "60000/60000 [==============================] - 2s 41us/step - loss: 0.2692 - val_loss: 0.2690\n",
      "Epoch 199/200\n",
      "60000/60000 [==============================] - 2s 41us/step - loss: 0.2691 - val_loss: 0.2690\n",
      "Epoch 200/200\n",
      "60000/60000 [==============================] - 2s 41us/step - loss: 0.2691 - val_loss: 0.2689\n"
     ]
    }
   ],
   "source": [
    "autoencoder.compile(optimizer='adadelta', loss='binary_crossentropy')\n",
    "history = autoencoder.fit(XtrainScaledFlatten, XtrainScaledFlatten, epochs=200, \n",
    "                          batch_size=256, shuffle=True, verbose=1, validation_data=(XtestScaledFlatten, XtestScaledFlatten)).history"
   ]
  },
  {
   "cell_type": "code",
   "execution_count": 188,
   "metadata": {
    "scrolled": true
   },
   "outputs": [
    {
     "data": {
      "image/png": "[encoded data removed]",
      "text/plain": [
       "<matplotlib.figure.Figure at 0x1239ec390>"
      ]
     },
     "metadata": {},
     "output_type": "display_data"
    }
   ],
   "source": [
    "plt.plot(history['loss']);\n",
    "plt.plot(history['val_loss']);\n",
    "plt.ylabel('loss')\n",
    "plt.xlabel('epoch')\n",
    "plt.legend(['training set loss', 'validation set loss']);"
   ]
  },
  {
   "cell_type": "code",
   "execution_count": 192,
   "metadata": {},
   "outputs": [],
   "source": [
    "encoder = Model(input_img, encoded)"
   ]
  },
  {
   "cell_type": "code",
   "execution_count": 180,
   "metadata": {
    "collapsed": true
   },
   "outputs": [],
   "source": [
    "encodedInput = Input(shape=(encodingDim,))\n",
    "decoderLayer = autoencoder2.layers[-1]\n",
    "decoder = Model(encodedInput, decoderLayer(encodedInput))"
   ]
  },
  {
   "cell_type": "code",
   "execution_count": 181,
   "metadata": {
    "collapsed": true
   },
   "outputs": [],
   "source": [
    "encodedImages = encoder.predict(XtestScaledFlatten)"
   ]
  },
  {
   "cell_type": "code",
   "execution_count": 182,
   "metadata": {
    "collapsed": true
   },
   "outputs": [],
   "source": [
    "decodedImages = decoder.predict(encodedImages)"
   ]
  },
  {
   "cell_type": "code",
   "execution_count": 189,
   "metadata": {},
   "outputs": [
    {
     "data": {
      "image/png": "[encoded data removed]",
      "text/plain": [
       "<matplotlib.figure.Figure at 0x1239ec7f0>"
      ]
     },
     "metadata": {},
     "output_type": "display_data"
    }
   ],
   "source": [
    "n = 10 #how many number of digits we will display\n",
    "\n",
    "plt.figure(figsize=(20,4))\n",
    "\n",
    "for i in range(n):\n",
    "    \n",
    "    ax = plt.subplot(2, n, i+1)\n",
    "    plt.imshow(XtestScaledFlatten[i].reshape(28, 28))\n",
    "    plt.gray()\n",
    "    ax.get_xaxis().set_visible(False)\n",
    "    ax.get_yaxis().set_visible(False)\n",
    "    \n",
    "    ax = plt.subplot(2, n, i+1+n)\n",
    "    plt.imshow(decodedImages[i].reshape(28, 28))\n",
    "    plt.gray()\n",
    "    ax.get_xaxis().set_visible(False)\n",
    "    ax.get_yaxis().set_visible(False)\n",
    "plt.show()"
   ]
  },
  {
   "cell_type": "code",
   "execution_count": null,
   "metadata": {
    "collapsed": true
   },
   "outputs": [],
   "source": []
  }
 ],
 "metadata": {
  "kernelspec": {
   "display_name": "Python 3",
   "language": "python",
   "name": "python3"
  },
  "language_info": {
   "codemirror_mode": {
    "name": "ipython",
    "version": 3
   },
   "file_extension": ".py",
   "mimetype": "text/x-python",
   "name": "python",
   "nbconvert_exporter": "python",
   "pygments_lexer": "ipython3",
   "version": "3.6.3"
  }
 },
 "nbformat": 4,
 "nbformat_minor": 2
}
