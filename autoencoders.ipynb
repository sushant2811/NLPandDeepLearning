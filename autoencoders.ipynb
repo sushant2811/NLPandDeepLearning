{
 "cells": [
  {
   "cell_type": "markdown",
   "metadata": {},
   "source": [
    "# Various working examples of autoencoders\n",
    "\n",
    "Ref: [Keras blog](https://blog.keras.io/building-autoencoders-in-keras.html)"
   ]
  },
  {
   "cell_type": "code",
   "execution_count": 87,
   "metadata": {},
   "outputs": [],
   "source": [
    "from keras.layers import Input, Dense\n",
    "from keras.models import Model, Sequential"
   ]
  },
  {
   "cell_type": "code",
   "execution_count": 88,
   "metadata": {
    "collapsed": true
   },
   "outputs": [],
   "source": [
    "#the size of the encoded representation\n",
    "encodingDim = 32 # 32 floats -> compression of factor 24.5, assuming the input is 784 floats"
   ]
  },
  {
   "cell_type": "code",
   "execution_count": 89,
   "metadata": {
    "collapsed": true
   },
   "outputs": [],
   "source": [
    "# placeholder for the input image\n",
    "inputImg = Input(shape=(784,))"
   ]
  },
  {
   "cell_type": "markdown",
   "metadata": {},
   "source": [
    "\"encoded\" is the encoded representation of the input"
   ]
  },
  {
   "cell_type": "code",
   "execution_count": 90,
   "metadata": {
    "collapsed": true
   },
   "outputs": [],
   "source": [
    "encoded = Dense(encodingDim, activation='relu')(inputImg)"
   ]
  },
  {
   "cell_type": "code",
   "execution_count": 91,
   "metadata": {
    "collapsed": true
   },
   "outputs": [],
   "source": [
    "decoded = Dense(784, activation='sigmoid')(encoded)"
   ]
  },
  {
   "cell_type": "markdown",
   "metadata": {},
   "source": [
    "Try another network with the relu activation function in the decoder and check the performance. "
   ]
  },
  {
   "cell_type": "code",
   "execution_count": 92,
   "metadata": {
    "collapsed": true
   },
   "outputs": [],
   "source": [
    "autoencoder = Model(inputImg, decoded)"
   ]
  },
  {
   "cell_type": "code",
   "execution_count": 93,
   "metadata": {},
   "outputs": [
    {
     "name": "stdout",
     "output_type": "stream",
     "text": [
      "_________________________________________________________________\n",
      "Layer (type)                 Output Shape              Param #   \n",
      "=================================================================\n",
      "input_5 (InputLayer)         (None, 784)               0         \n",
      "_________________________________________________________________\n",
      "dense_14 (Dense)             (None, 32)                25120     \n",
      "_________________________________________________________________\n",
      "dense_15 (Dense)             (None, 784)               25872     \n",
      "=================================================================\n",
      "Total params: 50,992\n",
      "Trainable params: 50,992\n",
      "Non-trainable params: 0\n",
      "_________________________________________________________________\n"
     ]
    }
   ],
   "source": [
    "autoencoder.summary()"
   ]
  },
  {
   "cell_type": "code",
   "execution_count": 94,
   "metadata": {},
   "outputs": [
    {
     "data": {
      "text/plain": [
       "25120"
      ]
     },
     "execution_count": 94,
     "metadata": {},
     "output_type": "execute_result"
    }
   ],
   "source": [
    "785 * 32"
   ]
  },
  {
   "cell_type": "code",
   "execution_count": 95,
   "metadata": {},
   "outputs": [
    {
     "data": {
      "text/plain": [
       "25872"
      ]
     },
     "execution_count": 95,
     "metadata": {},
     "output_type": "execute_result"
    }
   ],
   "source": [
    "33 * 784"
   ]
  },
  {
   "cell_type": "code",
   "execution_count": 96,
   "metadata": {},
   "outputs": [
    {
     "data": {
      "text/plain": [
       "keras.engine.training.Model"
      ]
     },
     "execution_count": 96,
     "metadata": {},
     "output_type": "execute_result"
    }
   ],
   "source": [
    "type(autoencoder)"
   ]
  },
  {
   "cell_type": "markdown",
   "metadata": {},
   "source": [
    "Let's also create separate encoder and decoder models. "
   ]
  },
  {
   "cell_type": "code",
   "execution_count": 97,
   "metadata": {
    "collapsed": true
   },
   "outputs": [],
   "source": [
    "encoder = Model(inputImg, encoded)"
   ]
  },
  {
   "cell_type": "code",
   "execution_count": 98,
   "metadata": {
    "collapsed": true
   },
   "outputs": [],
   "source": [
    "encodedInput = Input(shape=(encodingDim,))\n",
    "decoderLayer = autoencoder.layers[-1]\n",
    "decoder = Model(encodedInput, decoderLayer(encodedInput))"
   ]
  },
  {
   "cell_type": "markdown",
   "metadata": {},
   "source": [
    "Let's build the same network using the Sequential class of keras. "
   ]
  },
  {
   "cell_type": "code",
   "execution_count": 99,
   "metadata": {
    "collapsed": true
   },
   "outputs": [],
   "source": [
    "autoencoderSeq = Sequential()"
   ]
  },
  {
   "cell_type": "code",
   "execution_count": 100,
   "metadata": {
    "collapsed": true
   },
   "outputs": [],
   "source": [
    "autoencoderSeq.add(Dense(encodingDim, input_shape=(784,), activation='relu'))"
   ]
  },
  {
   "cell_type": "code",
   "execution_count": 101,
   "metadata": {
    "collapsed": true
   },
   "outputs": [],
   "source": [
    "autoencoderSeq.add(Dense(784, activation='sigmoid'))"
   ]
  },
  {
   "cell_type": "code",
   "execution_count": 102,
   "metadata": {},
   "outputs": [
    {
     "name": "stdout",
     "output_type": "stream",
     "text": [
      "_________________________________________________________________\n",
      "Layer (type)                 Output Shape              Param #   \n",
      "=================================================================\n",
      "dense_16 (Dense)             (None, 32)                25120     \n",
      "_________________________________________________________________\n",
      "dense_17 (Dense)             (None, 784)               25872     \n",
      "=================================================================\n",
      "Total params: 50,992\n",
      "Trainable params: 50,992\n",
      "Non-trainable params: 0\n",
      "_________________________________________________________________\n"
     ]
    }
   ],
   "source": [
    "autoencoderSeq.summary()"
   ]
  },
  {
   "cell_type": "code",
   "execution_count": 103,
   "metadata": {},
   "outputs": [
    {
     "data": {
      "text/plain": [
       "keras.models.Sequential"
      ]
     },
     "execution_count": 103,
     "metadata": {},
     "output_type": "execute_result"
    }
   ],
   "source": [
    "type(autoencoderSeq)"
   ]
  },
  {
   "cell_type": "markdown",
   "metadata": {},
   "source": [
    "Now, let's train the network to reconstruct MNIST digits"
   ]
  },
  {
   "cell_type": "code",
   "execution_count": 104,
   "metadata": {
    "collapsed": true
   },
   "outputs": [],
   "source": [
    "autoencoder.compile(optimizer='adadelta', loss='binary_crossentropy')"
   ]
  },
  {
   "cell_type": "code",
   "execution_count": 105,
   "metadata": {
    "collapsed": true
   },
   "outputs": [],
   "source": [
    "autoencoderSeq.compile(optimizer='adadelta', loss='binary_crossentropy')"
   ]
  },
  {
   "cell_type": "code",
   "execution_count": 106,
   "metadata": {
    "collapsed": true
   },
   "outputs": [],
   "source": [
    "from keras.datasets import mnist\n",
    "import numpy as np"
   ]
  },
  {
   "cell_type": "code",
   "execution_count": 107,
   "metadata": {
    "collapsed": true
   },
   "outputs": [],
   "source": [
    "(Xtrain, ytrain), (Xtest, ytest) = mnist.load_data()"
   ]
  },
  {
   "cell_type": "code",
   "execution_count": 108,
   "metadata": {},
   "outputs": [
    {
     "data": {
      "text/plain": [
       "(60000, 28, 28)"
      ]
     },
     "execution_count": 108,
     "metadata": {},
     "output_type": "execute_result"
    }
   ],
   "source": [
    "Xtrain.shape"
   ]
  },
  {
   "cell_type": "code",
   "execution_count": 109,
   "metadata": {},
   "outputs": [
    {
     "data": {
      "text/plain": [
       "(10000, 28, 28)"
      ]
     },
     "execution_count": 109,
     "metadata": {},
     "output_type": "execute_result"
    }
   ],
   "source": [
    "Xtest.shape"
   ]
  },
  {
   "cell_type": "code",
   "execution_count": 110,
   "metadata": {},
   "outputs": [
    {
     "data": {
      "text/plain": [
       "(10000,)"
      ]
     },
     "execution_count": 110,
     "metadata": {},
     "output_type": "execute_result"
    }
   ],
   "source": [
    "ytest.shape"
   ]
  },
  {
   "cell_type": "code",
   "execution_count": 111,
   "metadata": {
    "collapsed": true
   },
   "outputs": [],
   "source": [
    "XtrainScaled = Xtrain.astype('float32') / 255."
   ]
  },
  {
   "cell_type": "code",
   "execution_count": 112,
   "metadata": {
    "collapsed": true
   },
   "outputs": [],
   "source": [
    "XtestScaled = Xtest.astype('float32') / 255."
   ]
  },
  {
   "cell_type": "markdown",
   "metadata": {},
   "source": [
    "Can think of the above as MaxAbsScaler"
   ]
  },
  {
   "cell_type": "code",
   "execution_count": 113,
   "metadata": {
    "collapsed": true
   },
   "outputs": [],
   "source": [
    "import numpy as np"
   ]
  },
  {
   "cell_type": "code",
   "execution_count": 114,
   "metadata": {},
   "outputs": [
    {
     "data": {
      "text/plain": [
       "784"
      ]
     },
     "execution_count": 114,
     "metadata": {},
     "output_type": "execute_result"
    }
   ],
   "source": [
    "np.prod(XtrainScaled.shape[1:])"
   ]
  },
  {
   "cell_type": "code",
   "execution_count": 115,
   "metadata": {
    "collapsed": true
   },
   "outputs": [],
   "source": [
    "XtrainScaledFlatten = XtrainScaled.reshape((len(XtrainScaled), np.prod(XtrainScaled.shape[1:])))"
   ]
  },
  {
   "cell_type": "code",
   "execution_count": 116,
   "metadata": {
    "collapsed": true
   },
   "outputs": [],
   "source": [
    "XtestScaledFlatten = XtestScaled.reshape((len(XtestScaled), np.prod(XtestScaled.shape[1:])))"
   ]
  },
  {
   "cell_type": "code",
   "execution_count": 117,
   "metadata": {},
   "outputs": [
    {
     "data": {
      "text/plain": [
       "array([[0., 0., 0., ..., 0., 0., 0.],\n",
       "       [0., 0., 0., ..., 0., 0., 0.],\n",
       "       [0., 0., 0., ..., 0., 0., 0.],\n",
       "       ...,\n",
       "       [0., 0., 0., ..., 0., 0., 0.],\n",
       "       [0., 0., 0., ..., 0., 0., 0.],\n",
       "       [0., 0., 0., ..., 0., 0., 0.]], dtype=float32)"
      ]
     },
     "execution_count": 117,
     "metadata": {},
     "output_type": "execute_result"
    }
   ],
   "source": [
    "XtrainScaledFlatten"
   ]
  },
  {
   "cell_type": "markdown",
   "metadata": {},
   "source": [
    "Training the autoencoder"
   ]
  },
  {
   "cell_type": "code",
   "execution_count": 118,
   "metadata": {},
   "outputs": [
    {
     "name": "stdout",
     "output_type": "stream",
     "text": [
      "Train on 60000 samples, validate on 10000 samples\n",
      "Epoch 1/200\n",
      "60000/60000 [==============================] - 2s 37us/step - loss: 0.3568 - val_loss: 0.2722\n",
      "Epoch 2/200\n",
      "60000/60000 [==============================] - 2s 33us/step - loss: 0.2666 - val_loss: 0.2575\n",
      "Epoch 3/200\n",
      "60000/60000 [==============================] - 2s 33us/step - loss: 0.2477 - val_loss: 0.2356\n",
      "Epoch 4/200\n",
      "60000/60000 [==============================] - 2s 33us/step - loss: 0.2269 - val_loss: 0.2159\n",
      "Epoch 5/200\n",
      "60000/60000 [==============================] - 2s 33us/step - loss: 0.2097 - val_loss: 0.2014\n",
      "Epoch 6/200\n",
      "60000/60000 [==============================] - 2s 34us/step - loss: 0.1976 - val_loss: 0.1914\n",
      "Epoch 7/200\n",
      "60000/60000 [==============================] - 2s 34us/step - loss: 0.1890 - val_loss: 0.1842\n",
      "Epoch 8/200\n",
      "60000/60000 [==============================] - 2s 34us/step - loss: 0.1824 - val_loss: 0.1783\n",
      "Epoch 9/200\n",
      "60000/60000 [==============================] - 2s 34us/step - loss: 0.1770 - val_loss: 0.1733\n",
      "Epoch 10/200\n",
      "60000/60000 [==============================] - 2s 34us/step - loss: 0.1722 - val_loss: 0.1687\n",
      "Epoch 11/200\n",
      "60000/60000 [==============================] - 2s 35us/step - loss: 0.1678 - val_loss: 0.1644\n",
      "Epoch 12/200\n",
      "60000/60000 [==============================] - 2s 35us/step - loss: 0.1636 - val_loss: 0.1604\n",
      "Epoch 13/200\n",
      "60000/60000 [==============================] - 2s 35us/step - loss: 0.1597 - val_loss: 0.1566\n",
      "Epoch 14/200\n",
      "60000/60000 [==============================] - 2s 35us/step - loss: 0.1561 - val_loss: 0.1531\n",
      "Epoch 15/200\n",
      "60000/60000 [==============================] - 2s 35us/step - loss: 0.1527 - val_loss: 0.1498\n",
      "Epoch 16/200\n",
      "60000/60000 [==============================] - 2s 35us/step - loss: 0.1496 - val_loss: 0.1467\n",
      "Epoch 17/200\n",
      "60000/60000 [==============================] - 2s 35us/step - loss: 0.1467 - val_loss: 0.1439\n",
      "Epoch 18/200\n",
      "60000/60000 [==============================] - 2s 35us/step - loss: 0.1440 - val_loss: 0.1413\n",
      "Epoch 19/200\n",
      "60000/60000 [==============================] - 2s 36us/step - loss: 0.1415 - val_loss: 0.1389\n",
      "Epoch 20/200\n",
      "60000/60000 [==============================] - 2s 36us/step - loss: 0.1391 - val_loss: 0.1366\n",
      "Epoch 21/200\n",
      "60000/60000 [==============================] - 2s 35us/step - loss: 0.1370 - val_loss: 0.1345\n",
      "Epoch 22/200\n",
      "60000/60000 [==============================] - 2s 36us/step - loss: 0.1349 - val_loss: 0.1325\n",
      "Epoch 23/200\n",
      "60000/60000 [==============================] - 2s 36us/step - loss: 0.1330 - val_loss: 0.1307\n",
      "Epoch 24/200\n",
      "60000/60000 [==============================] - 2s 36us/step - loss: 0.1312 - val_loss: 0.1288\n",
      "Epoch 25/200\n",
      "60000/60000 [==============================] - 2s 36us/step - loss: 0.1294 - val_loss: 0.1270\n",
      "Epoch 26/200\n",
      "60000/60000 [==============================] - 2s 36us/step - loss: 0.1278 - val_loss: 0.1255\n",
      "Epoch 27/200\n",
      "60000/60000 [==============================] - 2s 36us/step - loss: 0.1262 - val_loss: 0.1239\n",
      "Epoch 28/200\n",
      "60000/60000 [==============================] - 2s 36us/step - loss: 0.1247 - val_loss: 0.1224\n",
      "Epoch 29/200\n",
      "60000/60000 [==============================] - 2s 36us/step - loss: 0.1233 - val_loss: 0.1210\n",
      "Epoch 30/200\n",
      "60000/60000 [==============================] - 2s 36us/step - loss: 0.1219 - val_loss: 0.1197\n",
      "Epoch 31/200\n",
      "60000/60000 [==============================] - 2s 36us/step - loss: 0.1206 - val_loss: 0.1183\n",
      "Epoch 32/200\n",
      "60000/60000 [==============================] - 2s 36us/step - loss: 0.1193 - val_loss: 0.1171\n",
      "Epoch 33/200\n",
      "60000/60000 [==============================] - 2s 36us/step - loss: 0.1182 - val_loss: 0.1160\n",
      "Epoch 34/200\n",
      "60000/60000 [==============================] - 2s 36us/step - loss: 0.1170 - val_loss: 0.1149\n",
      "Epoch 35/200\n",
      "60000/60000 [==============================] - 2s 36us/step - loss: 0.1160 - val_loss: 0.1139\n",
      "Epoch 36/200\n",
      "60000/60000 [==============================] - 2s 36us/step - loss: 0.1150 - val_loss: 0.1129\n",
      "Epoch 37/200\n",
      "60000/60000 [==============================] - 2s 36us/step - loss: 0.1141 - val_loss: 0.1120\n",
      "Epoch 38/200\n",
      "60000/60000 [==============================] - 2s 36us/step - loss: 0.1132 - val_loss: 0.1112\n",
      "Epoch 39/200\n",
      "60000/60000 [==============================] - 2s 36us/step - loss: 0.1124 - val_loss: 0.1104\n",
      "Epoch 40/200\n",
      "60000/60000 [==============================] - 2s 38us/step - loss: 0.1116 - val_loss: 0.1096\n",
      "Epoch 41/200\n",
      "60000/60000 [==============================] - 2s 37us/step - loss: 0.1109 - val_loss: 0.1089\n",
      "Epoch 42/200\n",
      "60000/60000 [==============================] - 2s 36us/step - loss: 0.1103 - val_loss: 0.1083\n",
      "Epoch 43/200\n",
      "60000/60000 [==============================] - 2s 36us/step - loss: 0.1097 - val_loss: 0.1077\n",
      "Epoch 44/200\n",
      "60000/60000 [==============================] - 2s 36us/step - loss: 0.1091 - val_loss: 0.1072\n",
      "Epoch 45/200\n",
      "60000/60000 [==============================] - 2s 37us/step - loss: 0.1086 - val_loss: 0.1067\n",
      "Epoch 46/200\n",
      "60000/60000 [==============================] - 2s 37us/step - loss: 0.1081 - val_loss: 0.1062\n",
      "Epoch 47/200\n",
      "60000/60000 [==============================] - 2s 36us/step - loss: 0.1077 - val_loss: 0.1058\n",
      "Epoch 48/200\n",
      "60000/60000 [==============================] - 2s 36us/step - loss: 0.1073 - val_loss: 0.1054\n",
      "Epoch 49/200\n",
      "60000/60000 [==============================] - 2s 36us/step - loss: 0.1069 - val_loss: 0.1050\n",
      "Epoch 50/200\n",
      "60000/60000 [==============================] - 2s 36us/step - loss: 0.1065 - val_loss: 0.1047\n",
      "Epoch 51/200\n",
      "60000/60000 [==============================] - 2s 37us/step - loss: 0.1062 - val_loss: 0.1043\n",
      "Epoch 52/200\n",
      "60000/60000 [==============================] - 2s 36us/step - loss: 0.1058 - val_loss: 0.1040\n",
      "Epoch 53/200\n",
      "60000/60000 [==============================] - 2s 39us/step - loss: 0.1055 - val_loss: 0.1037\n",
      "Epoch 54/200\n",
      "60000/60000 [==============================] - 2s 38us/step - loss: 0.1052 - val_loss: 0.1034\n",
      "Epoch 55/200\n",
      "60000/60000 [==============================] - 2s 38us/step - loss: 0.1050 - val_loss: 0.1032\n",
      "Epoch 56/200\n",
      "60000/60000 [==============================] - 2s 39us/step - loss: 0.1047 - val_loss: 0.1029\n",
      "Epoch 57/200\n",
      "60000/60000 [==============================] - 2s 39us/step - loss: 0.1044 - val_loss: 0.1027\n",
      "Epoch 58/200\n",
      "60000/60000 [==============================] - 2s 38us/step - loss: 0.1042 - val_loss: 0.1024\n",
      "Epoch 59/200\n",
      "60000/60000 [==============================] - 2s 39us/step - loss: 0.1040 - val_loss: 0.1022\n",
      "Epoch 60/200\n",
      "60000/60000 [==============================] - 2s 39us/step - loss: 0.1037 - val_loss: 0.1020\n",
      "Epoch 61/200\n",
      "60000/60000 [==============================] - 2s 38us/step - loss: 0.1035 - val_loss: 0.1018\n",
      "Epoch 62/200\n",
      "60000/60000 [==============================] - 2s 37us/step - loss: 0.1033 - val_loss: 0.1016\n",
      "Epoch 63/200\n",
      "60000/60000 [==============================] - 3s 48us/step - loss: 0.1031 - val_loss: 0.1014\n",
      "Epoch 64/200\n",
      "60000/60000 [==============================] - 2s 40us/step - loss: 0.1029 - val_loss: 0.1012\n",
      "Epoch 65/200\n",
      "60000/60000 [==============================] - 2s 39us/step - loss: 0.1028 - val_loss: 0.1011\n",
      "Epoch 66/200\n",
      "60000/60000 [==============================] - 2s 39us/step - loss: 0.1026 - val_loss: 0.1009\n",
      "Epoch 67/200\n",
      "60000/60000 [==============================] - 2s 40us/step - loss: 0.1024 - val_loss: 0.1008\n",
      "Epoch 68/200\n",
      "60000/60000 [==============================] - 2s 39us/step - loss: 0.1023 - val_loss: 0.1006\n",
      "Epoch 69/200\n",
      "60000/60000 [==============================] - 2s 39us/step - loss: 0.1021 - val_loss: 0.1005\n",
      "Epoch 70/200\n",
      "60000/60000 [==============================] - 2s 39us/step - loss: 0.1020 - val_loss: 0.1004\n",
      "Epoch 71/200\n",
      "60000/60000 [==============================] - 2s 40us/step - loss: 0.1019 - val_loss: 0.1002\n",
      "Epoch 72/200\n",
      "60000/60000 [==============================] - 2s 39us/step - loss: 0.1018 - val_loss: 0.1001\n",
      "Epoch 73/200\n",
      "60000/60000 [==============================] - 2s 41us/step - loss: 0.1016 - val_loss: 0.1000\n",
      "Epoch 74/200\n",
      "60000/60000 [==============================] - 2s 39us/step - loss: 0.1015 - val_loss: 0.0999\n",
      "Epoch 75/200\n",
      "60000/60000 [==============================] - 3s 49us/step - loss: 0.1014 - val_loss: 0.0998\n",
      "Epoch 76/200\n",
      "60000/60000 [==============================] - 2s 42us/step - loss: 0.1013 - val_loss: 0.0997\n",
      "Epoch 77/200\n"
     ]
    },
    {
     "name": "stdout",
     "output_type": "stream",
     "text": [
      "60000/60000 [==============================] - 2s 37us/step - loss: 0.1012 - val_loss: 0.0996\n",
      "Epoch 78/200\n",
      "60000/60000 [==============================] - 2s 36us/step - loss: 0.1011 - val_loss: 0.0995\n",
      "Epoch 79/200\n",
      "60000/60000 [==============================] - 2s 36us/step - loss: 0.1010 - val_loss: 0.0994\n",
      "Epoch 80/200\n",
      "60000/60000 [==============================] - 2s 36us/step - loss: 0.1010 - val_loss: 0.0993\n",
      "Epoch 81/200\n",
      "60000/60000 [==============================] - 2s 36us/step - loss: 0.1009 - val_loss: 0.0993\n",
      "Epoch 82/200\n",
      "60000/60000 [==============================] - 2s 37us/step - loss: 0.1008 - val_loss: 0.0992\n",
      "Epoch 83/200\n",
      "60000/60000 [==============================] - 2s 36us/step - loss: 0.1007 - val_loss: 0.0991\n",
      "Epoch 84/200\n",
      "60000/60000 [==============================] - 2s 37us/step - loss: 0.1007 - val_loss: 0.0991\n",
      "Epoch 85/200\n",
      "60000/60000 [==============================] - 2s 37us/step - loss: 0.1006 - val_loss: 0.0990\n",
      "Epoch 86/200\n",
      "60000/60000 [==============================] - 2s 36us/step - loss: 0.1005 - val_loss: 0.0989\n",
      "Epoch 87/200\n",
      "60000/60000 [==============================] - 2s 37us/step - loss: 0.1005 - val_loss: 0.0989\n",
      "Epoch 88/200\n",
      "60000/60000 [==============================] - 2s 37us/step - loss: 0.1004 - val_loss: 0.0988\n",
      "Epoch 89/200\n",
      "60000/60000 [==============================] - ETA: 0s - loss: 0.100 - 2s 37us/step - loss: 0.1003 - val_loss: 0.0988\n",
      "Epoch 90/200\n",
      "60000/60000 [==============================] - 2s 37us/step - loss: 0.1003 - val_loss: 0.0987\n",
      "Epoch 91/200\n",
      "60000/60000 [==============================] - 2s 37us/step - loss: 0.1002 - val_loss: 0.0987\n",
      "Epoch 92/200\n",
      "60000/60000 [==============================] - 2s 37us/step - loss: 0.1002 - val_loss: 0.0986\n",
      "Epoch 93/200\n",
      "60000/60000 [==============================] - 2s 37us/step - loss: 0.1001 - val_loss: 0.0985\n",
      "Epoch 94/200\n",
      "60000/60000 [==============================] - 2s 37us/step - loss: 0.1001 - val_loss: 0.0985\n",
      "Epoch 95/200\n",
      "60000/60000 [==============================] - 2s 37us/step - loss: 0.1000 - val_loss: 0.0985\n",
      "Epoch 96/200\n",
      "60000/60000 [==============================] - 2s 37us/step - loss: 0.1000 - val_loss: 0.0984\n",
      "Epoch 97/200\n",
      "60000/60000 [==============================] - 2s 37us/step - loss: 0.0999 - val_loss: 0.0984\n",
      "Epoch 98/200\n",
      "60000/60000 [==============================] - 2s 37us/step - loss: 0.0999 - val_loss: 0.0983\n",
      "Epoch 99/200\n",
      "60000/60000 [==============================] - 2s 37us/step - loss: 0.0998 - val_loss: 0.0983\n",
      "Epoch 100/200\n",
      "60000/60000 [==============================] - 2s 37us/step - loss: 0.0998 - val_loss: 0.0982\n",
      "Epoch 101/200\n",
      "60000/60000 [==============================] - 2s 37us/step - loss: 0.0997 - val_loss: 0.0982\n",
      "Epoch 102/200\n",
      "60000/60000 [==============================] - 2s 38us/step - loss: 0.0997 - val_loss: 0.0982\n",
      "Epoch 103/200\n",
      "60000/60000 [==============================] - 2s 37us/step - loss: 0.0997 - val_loss: 0.0981\n",
      "Epoch 104/200\n",
      "60000/60000 [==============================] - 2s 37us/step - loss: 0.0996 - val_loss: 0.0981\n",
      "Epoch 105/200\n",
      "60000/60000 [==============================] - 2s 37us/step - loss: 0.0996 - val_loss: 0.0981\n",
      "Epoch 106/200\n",
      "60000/60000 [==============================] - 2s 37us/step - loss: 0.0995 - val_loss: 0.0980\n",
      "Epoch 107/200\n",
      "60000/60000 [==============================] - 2s 37us/step - loss: 0.0995 - val_loss: 0.0980\n",
      "Epoch 108/200\n",
      "60000/60000 [==============================] - 2s 37us/step - loss: 0.0995 - val_loss: 0.0979\n",
      "Epoch 109/200\n",
      "60000/60000 [==============================] - 2s 37us/step - loss: 0.0994 - val_loss: 0.0979\n",
      "Epoch 110/200\n",
      "60000/60000 [==============================] - 2s 37us/step - loss: 0.0994 - val_loss: 0.0979\n",
      "Epoch 111/200\n",
      "60000/60000 [==============================] - 2s 37us/step - loss: 0.0994 - val_loss: 0.0978\n",
      "Epoch 112/200\n",
      "60000/60000 [==============================] - 2s 37us/step - loss: 0.0993 - val_loss: 0.0978\n",
      "Epoch 113/200\n",
      "60000/60000 [==============================] - 2s 37us/step - loss: 0.0993 - val_loss: 0.0978\n",
      "Epoch 114/200\n",
      "60000/60000 [==============================] - 2s 37us/step - loss: 0.0993 - val_loss: 0.0977\n",
      "Epoch 115/200\n",
      "60000/60000 [==============================] - 2s 37us/step - loss: 0.0992 - val_loss: 0.0977\n",
      "Epoch 116/200\n",
      "60000/60000 [==============================] - 2s 37us/step - loss: 0.0992 - val_loss: 0.0977\n",
      "Epoch 117/200\n",
      "60000/60000 [==============================] - 2s 37us/step - loss: 0.0992 - val_loss: 0.0977\n",
      "Epoch 118/200\n",
      "60000/60000 [==============================] - 2s 37us/step - loss: 0.0991 - val_loss: 0.0976\n",
      "Epoch 119/200\n",
      "60000/60000 [==============================] - 2s 37us/step - loss: 0.0991 - val_loss: 0.0976\n",
      "Epoch 120/200\n",
      "60000/60000 [==============================] - 2s 37us/step - loss: 0.0991 - val_loss: 0.0976\n",
      "Epoch 121/200\n",
      "60000/60000 [==============================] - 2s 38us/step - loss: 0.0990 - val_loss: 0.0975\n",
      "Epoch 122/200\n",
      "60000/60000 [==============================] - 2s 37us/step - loss: 0.0990 - val_loss: 0.0975\n",
      "Epoch 123/200\n",
      "60000/60000 [==============================] - 2s 37us/step - loss: 0.0990 - val_loss: 0.0975\n",
      "Epoch 124/200\n",
      "60000/60000 [==============================] - 2s 37us/step - loss: 0.0989 - val_loss: 0.0975\n",
      "Epoch 125/200\n",
      "60000/60000 [==============================] - 2s 38us/step - loss: 0.0989 - val_loss: 0.0975\n",
      "Epoch 126/200\n",
      "60000/60000 [==============================] - 2s 38us/step - loss: 0.0989 - val_loss: 0.0974\n",
      "Epoch 127/200\n",
      "60000/60000 [==============================] - 2s 38us/step - loss: 0.0988 - val_loss: 0.0973\n",
      "Epoch 128/200\n",
      "60000/60000 [==============================] - 3s 44us/step - loss: 0.0988 - val_loss: 0.0973\n",
      "Epoch 129/200\n",
      "60000/60000 [==============================] - 3s 53us/step - loss: 0.0988 - val_loss: 0.0973\n",
      "Epoch 130/200\n",
      "60000/60000 [==============================] - 2s 42us/step - loss: 0.0988 - val_loss: 0.0973\n",
      "Epoch 131/200\n",
      "60000/60000 [==============================] - 2s 39us/step - loss: 0.0987 - val_loss: 0.0972\n",
      "Epoch 132/200\n",
      "60000/60000 [==============================] - 2s 40us/step - loss: 0.0987 - val_loss: 0.0972\n",
      "Epoch 133/200\n",
      "60000/60000 [==============================] - 2s 40us/step - loss: 0.0987 - val_loss: 0.0972\n",
      "Epoch 134/200\n",
      "60000/60000 [==============================] - 2s 41us/step - loss: 0.0986 - val_loss: 0.0971\n",
      "Epoch 135/200\n",
      "60000/60000 [==============================] - 2s 39us/step - loss: 0.0986 - val_loss: 0.0971\n",
      "Epoch 136/200\n",
      "60000/60000 [==============================] - 2s 40us/step - loss: 0.0985 - val_loss: 0.0971\n",
      "Epoch 137/200\n",
      "60000/60000 [==============================] - 2s 39us/step - loss: 0.0985 - val_loss: 0.0970\n",
      "Epoch 138/200\n",
      "60000/60000 [==============================] - 2s 41us/step - loss: 0.0985 - val_loss: 0.0970\n",
      "Epoch 139/200\n",
      "60000/60000 [==============================] - 2s 41us/step - loss: 0.0984 - val_loss: 0.0970\n",
      "Epoch 140/200\n",
      "60000/60000 [==============================] - 2s 41us/step - loss: 0.0984 - val_loss: 0.0969\n",
      "Epoch 141/200\n",
      "60000/60000 [==============================] - 2s 41us/step - loss: 0.0983 - val_loss: 0.0969\n",
      "Epoch 142/200\n",
      "60000/60000 [==============================] - 2s 40us/step - loss: 0.0983 - val_loss: 0.0968\n",
      "Epoch 143/200\n",
      "60000/60000 [==============================] - 2s 40us/step - loss: 0.0983 - val_loss: 0.0968\n",
      "Epoch 144/200\n",
      "60000/60000 [==============================] - 2s 40us/step - loss: 0.0982 - val_loss: 0.0967\n",
      "Epoch 145/200\n",
      "60000/60000 [==============================] - 2s 39us/step - loss: 0.0982 - val_loss: 0.0967\n",
      "Epoch 146/200\n",
      "60000/60000 [==============================] - 2s 41us/step - loss: 0.0981 - val_loss: 0.0967\n",
      "Epoch 147/200\n",
      "60000/60000 [==============================] - 2s 40us/step - loss: 0.0981 - val_loss: 0.0966\n",
      "Epoch 148/200\n",
      "60000/60000 [==============================] - 2s 41us/step - loss: 0.0980 - val_loss: 0.0966\n",
      "Epoch 149/200\n",
      "60000/60000 [==============================] - 2s 41us/step - loss: 0.0980 - val_loss: 0.0965\n",
      "Epoch 150/200\n",
      "60000/60000 [==============================] - 2s 41us/step - loss: 0.0979 - val_loss: 0.0965\n",
      "Epoch 151/200\n",
      "60000/60000 [==============================] - ETA: 0s - loss: 0.097 - 2s 41us/step - loss: 0.0979 - val_loss: 0.0964\n",
      "Epoch 152/200\n"
     ]
    },
    {
     "name": "stdout",
     "output_type": "stream",
     "text": [
      "60000/60000 [==============================] - 2s 38us/step - loss: 0.0978 - val_loss: 0.0964\n",
      "Epoch 153/200\n",
      "60000/60000 [==============================] - 2s 37us/step - loss: 0.0978 - val_loss: 0.0963\n",
      "Epoch 154/200\n",
      "60000/60000 [==============================] - 2s 37us/step - loss: 0.0977 - val_loss: 0.0963\n",
      "Epoch 155/200\n",
      "60000/60000 [==============================] - 2s 37us/step - loss: 0.0977 - val_loss: 0.0962\n",
      "Epoch 156/200\n",
      "60000/60000 [==============================] - 2s 37us/step - loss: 0.0976 - val_loss: 0.0962\n",
      "Epoch 157/200\n",
      "60000/60000 [==============================] - 2s 37us/step - loss: 0.0976 - val_loss: 0.0961\n",
      "Epoch 158/200\n",
      "60000/60000 [==============================] - 2s 37us/step - loss: 0.0976 - val_loss: 0.0961\n",
      "Epoch 159/200\n",
      "60000/60000 [==============================] - 2s 38us/step - loss: 0.0975 - val_loss: 0.0961\n",
      "Epoch 160/200\n",
      "60000/60000 [==============================] - 2s 38us/step - loss: 0.0975 - val_loss: 0.0960\n",
      "Epoch 161/200\n",
      "60000/60000 [==============================] - 2s 38us/step - loss: 0.0974 - val_loss: 0.0960\n",
      "Epoch 162/200\n",
      "60000/60000 [==============================] - 2s 38us/step - loss: 0.0974 - val_loss: 0.0960\n",
      "Epoch 163/200\n",
      "60000/60000 [==============================] - 2s 38us/step - loss: 0.0974 - val_loss: 0.0959\n",
      "Epoch 164/200\n",
      "60000/60000 [==============================] - 2s 38us/step - loss: 0.0973 - val_loss: 0.0959\n",
      "Epoch 165/200\n",
      "60000/60000 [==============================] - 2s 38us/step - loss: 0.0973 - val_loss: 0.0959\n",
      "Epoch 166/200\n",
      "60000/60000 [==============================] - 2s 38us/step - loss: 0.0973 - val_loss: 0.0958\n",
      "Epoch 167/200\n",
      "60000/60000 [==============================] - 2s 38us/step - loss: 0.0972 - val_loss: 0.0958\n",
      "Epoch 168/200\n",
      "60000/60000 [==============================] - 2s 38us/step - loss: 0.0972 - val_loss: 0.0958\n",
      "Epoch 169/200\n",
      "60000/60000 [==============================] - 2s 38us/step - loss: 0.0972 - val_loss: 0.0957\n",
      "Epoch 170/200\n",
      "60000/60000 [==============================] - 2s 39us/step - loss: 0.0971 - val_loss: 0.0957\n",
      "Epoch 171/200\n",
      "60000/60000 [==============================] - 2s 38us/step - loss: 0.0971 - val_loss: 0.0957\n",
      "Epoch 172/200\n",
      "60000/60000 [==============================] - 2s 38us/step - loss: 0.0971 - val_loss: 0.0957\n",
      "Epoch 173/200\n",
      "60000/60000 [==============================] - 2s 38us/step - loss: 0.0971 - val_loss: 0.0957\n",
      "Epoch 174/200\n",
      "60000/60000 [==============================] - 2s 38us/step - loss: 0.0971 - val_loss: 0.0957\n",
      "Epoch 175/200\n",
      "60000/60000 [==============================] - 2s 38us/step - loss: 0.0970 - val_loss: 0.0956\n",
      "Epoch 176/200\n",
      "60000/60000 [==============================] - 2s 39us/step - loss: 0.0970 - val_loss: 0.0956\n",
      "Epoch 177/200\n",
      "60000/60000 [==============================] - 2s 39us/step - loss: 0.0970 - val_loss: 0.0956\n",
      "Epoch 178/200\n",
      "60000/60000 [==============================] - 2s 38us/step - loss: 0.0970 - val_loss: 0.0956\n",
      "Epoch 179/200\n",
      "60000/60000 [==============================] - 2s 38us/step - loss: 0.0970 - val_loss: 0.0956\n",
      "Epoch 180/200\n",
      "60000/60000 [==============================] - 2s 38us/step - loss: 0.0969 - val_loss: 0.0955\n",
      "Epoch 181/200\n",
      "60000/60000 [==============================] - 2s 38us/step - loss: 0.0969 - val_loss: 0.0955\n",
      "Epoch 182/200\n",
      "60000/60000 [==============================] - 2s 38us/step - loss: 0.0969 - val_loss: 0.0955\n",
      "Epoch 183/200\n",
      "60000/60000 [==============================] - 2s 38us/step - loss: 0.0969 - val_loss: 0.0955\n",
      "Epoch 184/200\n",
      "60000/60000 [==============================] - 2s 39us/step - loss: 0.0969 - val_loss: 0.0955\n",
      "Epoch 185/200\n",
      "60000/60000 [==============================] - 2s 38us/step - loss: 0.0969 - val_loss: 0.0955\n",
      "Epoch 186/200\n",
      "60000/60000 [==============================] - 2s 38us/step - loss: 0.0968 - val_loss: 0.0955\n",
      "Epoch 187/200\n",
      "60000/60000 [==============================] - 2s 38us/step - loss: 0.0968 - val_loss: 0.0954\n",
      "Epoch 188/200\n",
      "60000/60000 [==============================] - 2s 38us/step - loss: 0.0968 - val_loss: 0.0954\n",
      "Epoch 189/200\n",
      "60000/60000 [==============================] - 2s 38us/step - loss: 0.0968 - val_loss: 0.0954\n",
      "Epoch 190/200\n",
      "60000/60000 [==============================] - 2s 39us/step - loss: 0.0968 - val_loss: 0.0954\n",
      "Epoch 191/200\n",
      "60000/60000 [==============================] - 2s 39us/step - loss: 0.0968 - val_loss: 0.0954\n",
      "Epoch 192/200\n",
      "60000/60000 [==============================] - 2s 38us/step - loss: 0.0968 - val_loss: 0.0954\n",
      "Epoch 193/200\n",
      "60000/60000 [==============================] - 2s 38us/step - loss: 0.0967 - val_loss: 0.0953\n",
      "Epoch 194/200\n",
      "60000/60000 [==============================] - 2s 38us/step - loss: 0.0967 - val_loss: 0.0953\n",
      "Epoch 195/200\n",
      "60000/60000 [==============================] - 2s 39us/step - loss: 0.0967 - val_loss: 0.0953\n",
      "Epoch 196/200\n",
      "60000/60000 [==============================] - 2s 39us/step - loss: 0.0967 - val_loss: 0.0953\n",
      "Epoch 197/200\n",
      "60000/60000 [==============================] - 2s 39us/step - loss: 0.0967 - val_loss: 0.0953\n",
      "Epoch 198/200\n",
      "60000/60000 [==============================] - 2s 39us/step - loss: 0.0967 - val_loss: 0.0953\n",
      "Epoch 199/200\n",
      "60000/60000 [==============================] - 2s 39us/step - loss: 0.0967 - val_loss: 0.0953\n",
      "Epoch 200/200\n",
      "60000/60000 [==============================] - 2s 38us/step - loss: 0.0967 - val_loss: 0.0953\n"
     ]
    }
   ],
   "source": [
    "history = autoencoder.fit(XtrainScaledFlatten, XtrainScaledFlatten, epochs=200, \n",
    "                          batch_size=256, shuffle=True, verbose=1, validation_data=(XtestScaledFlatten, XtestScaledFlatten)).history"
   ]
  },
  {
   "cell_type": "code",
   "execution_count": 119,
   "metadata": {
    "collapsed": true
   },
   "outputs": [],
   "source": [
    "import matplotlib.pyplot as plt\n",
    "%matplotlib inline"
   ]
  },
  {
   "cell_type": "code",
   "execution_count": 120,
   "metadata": {},
   "outputs": [
    {
     "data": {
      "image/png": "[encoded data removed]",
      "text/plain": [
       "<matplotlib.figure.Figure at 0x138543e80>"
      ]
     },
     "metadata": {},
     "output_type": "display_data"
    }
   ],
   "source": [
    "plt.plot(history['loss']);\n",
    "plt.plot(history['val_loss']);\n",
    "plt.ylabel('loss')\n",
    "plt.xlabel('epoch')\n",
    "plt.legend(['training set loss', 'validation set loss']);"
   ]
  },
  {
   "cell_type": "code",
   "execution_count": 121,
   "metadata": {},
   "outputs": [],
   "source": [
    "encodedImages = encoder.predict(XtestScaledFlatten)"
   ]
  },
  {
   "cell_type": "code",
   "execution_count": 122,
   "metadata": {},
   "outputs": [],
   "source": [
    "decodedImages = decoder.predict(encodedImages)"
   ]
  },
  {
   "cell_type": "code",
   "execution_count": 123,
   "metadata": {},
   "outputs": [
    {
     "data": {
      "image/png": "[encoded data removed]",
      "text/plain": [
       "<matplotlib.figure.Figure at 0x138b79dd8>"
      ]
     },
     "metadata": {},
     "output_type": "display_data"
    }
   ],
   "source": [
    "import matplotlib.pyplot as plt\n",
    "\n",
    "n = 10 #how many number of digits we will display\n",
    "\n",
    "plt.figure(figsize=(20,4))\n",
    "\n",
    "for i in range(n):\n",
    "    \n",
    "    ax = plt.subplot(2, n, i+1)\n",
    "    plt.imshow(XtestScaledFlatten[i].reshape(28, 28))\n",
    "    plt.gray()\n",
    "    ax.get_xaxis().set_visible(False)\n",
    "    ax.get_yaxis().set_visible(False)\n",
    "    \n",
    "    ax = plt.subplot(2, n, i+1+n)\n",
    "    plt.imshow(decodedImages[i].reshape(28, 28))\n",
    "    plt.gray()\n",
    "    ax.get_xaxis().set_visible(False)\n",
    "    ax.get_yaxis().set_visible(False)\n",
    "plt.show()"
   ]
  },
  {
   "cell_type": "code",
   "execution_count": null,
   "metadata": {
    "collapsed": true
   },
   "outputs": [],
   "source": []
  }
 ],
 "metadata": {
  "kernelspec": {
   "display_name": "Python 3",
   "language": "python",
   "name": "python3"
  },
  "language_info": {
   "codemirror_mode": {
    "name": "ipython",
    "version": 3
   },
   "file_extension": ".py",
   "mimetype": "text/x-python",
   "name": "python",
   "nbconvert_exporter": "python",
   "pygments_lexer": "ipython3",
   "version": "3.6.3"
  }
 },
 "nbformat": 4,
 "nbformat_minor": 2
}
