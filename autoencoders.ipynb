{
 "cells": [
  {
   "cell_type": "markdown",
   "metadata": {},
   "source": [
    "# Various working examples of autoencoders\n",
    "\n",
    "Ref: [Keras blog](https://blog.keras.io/building-autoencoders-in-keras.html)"
   ]
  },
  {
   "cell_type": "code",
   "execution_count": 1,
   "metadata": {},
   "outputs": [
    {
     "name": "stderr",
     "output_type": "stream",
     "text": [
      "/Users/sushantmore/anaconda3/lib/python3.6/site-packages/h5py/__init__.py:34: FutureWarning: Conversion of the second argument of issubdtype from `float` to `np.floating` is deprecated. In future, it will be treated as `np.float64 == np.dtype(float).type`.\n",
      "  from ._conv import register_converters as _register_converters\n",
      "Using TensorFlow backend.\n"
     ]
    }
   ],
   "source": [
    "from keras.layers import Input, Dense\n",
    "from keras.models import Model, Sequential"
   ]
  },
  {
   "cell_type": "code",
   "execution_count": 2,
   "metadata": {
    "collapsed": true
   },
   "outputs": [],
   "source": [
    "#the size of the encoded representation\n",
    "encodingDim = 32 # 32 floats -> compression of factor 24.5, assuming the input is 784 floats"
   ]
  },
  {
   "cell_type": "code",
   "execution_count": 3,
   "metadata": {
    "collapsed": true
   },
   "outputs": [],
   "source": [
    "# placeholder for the input image\n",
    "inputImg = Input(shape=(784,))"
   ]
  },
  {
   "cell_type": "markdown",
   "metadata": {},
   "source": [
    "\"encoded\" is the encoded representation of the input"
   ]
  },
  {
   "cell_type": "code",
   "execution_count": 4,
   "metadata": {
    "collapsed": true
   },
   "outputs": [],
   "source": [
    "encoded = Dense(encodingDim, activation='relu')(inputImg)"
   ]
  },
  {
   "cell_type": "code",
   "execution_count": 5,
   "metadata": {
    "collapsed": true
   },
   "outputs": [],
   "source": [
    "decoded = Dense(784, activation='sigmoid')(encoded)"
   ]
  },
  {
   "cell_type": "markdown",
   "metadata": {},
   "source": [
    "Try another network with the relu activation function in the decoder and check the performance. "
   ]
  },
  {
   "cell_type": "code",
   "execution_count": 7,
   "metadata": {
    "collapsed": true
   },
   "outputs": [],
   "source": [
    "autoencoder = Model(inputImg, decoded)"
   ]
  },
  {
   "cell_type": "code",
   "execution_count": 8,
   "metadata": {},
   "outputs": [
    {
     "name": "stdout",
     "output_type": "stream",
     "text": [
      "_________________________________________________________________\n",
      "Layer (type)                 Output Shape              Param #   \n",
      "=================================================================\n",
      "input_1 (InputLayer)         (None, 784)               0         \n",
      "_________________________________________________________________\n",
      "dense_1 (Dense)              (None, 32)                25120     \n",
      "_________________________________________________________________\n",
      "dense_2 (Dense)              (None, 784)               25872     \n",
      "=================================================================\n",
      "Total params: 50,992\n",
      "Trainable params: 50,992\n",
      "Non-trainable params: 0\n",
      "_________________________________________________________________\n"
     ]
    }
   ],
   "source": [
    "autoencoder.summary()"
   ]
  },
  {
   "cell_type": "code",
   "execution_count": 9,
   "metadata": {},
   "outputs": [
    {
     "data": {
      "text/plain": [
       "25120"
      ]
     },
     "execution_count": 9,
     "metadata": {},
     "output_type": "execute_result"
    }
   ],
   "source": [
    "785 * 32"
   ]
  },
  {
   "cell_type": "code",
   "execution_count": 10,
   "metadata": {},
   "outputs": [
    {
     "data": {
      "text/plain": [
       "25872"
      ]
     },
     "execution_count": 10,
     "metadata": {},
     "output_type": "execute_result"
    }
   ],
   "source": [
    "33 * 784"
   ]
  },
  {
   "cell_type": "code",
   "execution_count": 11,
   "metadata": {},
   "outputs": [
    {
     "data": {
      "text/plain": [
       "keras.engine.training.Model"
      ]
     },
     "execution_count": 11,
     "metadata": {},
     "output_type": "execute_result"
    }
   ],
   "source": [
    "type(autoencoder)"
   ]
  },
  {
   "cell_type": "markdown",
   "metadata": {},
   "source": [
    "Let's build the same network using the Sequential class of keras. "
   ]
  },
  {
   "cell_type": "code",
   "execution_count": 26,
   "metadata": {
    "collapsed": true
   },
   "outputs": [],
   "source": [
    "autoencoderSeq = Sequential()"
   ]
  },
  {
   "cell_type": "code",
   "execution_count": 27,
   "metadata": {
    "collapsed": true
   },
   "outputs": [],
   "source": [
    "autoencoderSeq.add(Dense(encodingDim, input_shape=(784,), activation='relu'))"
   ]
  },
  {
   "cell_type": "code",
   "execution_count": 28,
   "metadata": {
    "collapsed": true
   },
   "outputs": [],
   "source": [
    "autoencoderSeq.add(Dense(784, activation='sigmoid'))"
   ]
  },
  {
   "cell_type": "code",
   "execution_count": 29,
   "metadata": {},
   "outputs": [
    {
     "name": "stdout",
     "output_type": "stream",
     "text": [
      "_________________________________________________________________\n",
      "Layer (type)                 Output Shape              Param #   \n",
      "=================================================================\n",
      "dense_5 (Dense)              (None, 32)                25120     \n",
      "_________________________________________________________________\n",
      "dense_6 (Dense)              (None, 784)               25872     \n",
      "=================================================================\n",
      "Total params: 50,992\n",
      "Trainable params: 50,992\n",
      "Non-trainable params: 0\n",
      "_________________________________________________________________\n"
     ]
    }
   ],
   "source": [
    "autoencoderSeq.summary()"
   ]
  },
  {
   "cell_type": "code",
   "execution_count": 30,
   "metadata": {},
   "outputs": [
    {
     "data": {
      "text/plain": [
       "keras.models.Sequential"
      ]
     },
     "execution_count": 30,
     "metadata": {},
     "output_type": "execute_result"
    }
   ],
   "source": [
    "type(autoencoderSeq)"
   ]
  },
  {
   "cell_type": "markdown",
   "metadata": {},
   "source": [
    "Now, let's train the network to reconstruct MNIST digits"
   ]
  },
  {
   "cell_type": "code",
   "execution_count": 31,
   "metadata": {
    "collapsed": true
   },
   "outputs": [],
   "source": [
    "autoencoder.compile(optimizer='adadelta', loss='binary_crossentropy')"
   ]
  },
  {
   "cell_type": "code",
   "execution_count": 32,
   "metadata": {
    "collapsed": true
   },
   "outputs": [],
   "source": [
    "autoencoderSeq.compile(optimizer='adadelta', loss='binary_crossentropy')"
   ]
  },
  {
   "cell_type": "code",
   "execution_count": 33,
   "metadata": {
    "collapsed": true
   },
   "outputs": [],
   "source": [
    "from keras.datasets import mnist\n",
    "import numpy as np"
   ]
  },
  {
   "cell_type": "code",
   "execution_count": 34,
   "metadata": {
    "collapsed": true
   },
   "outputs": [],
   "source": [
    "(Xtrain, ytrain), (Xtest, ytest) = mnist.load_data()"
   ]
  },
  {
   "cell_type": "code",
   "execution_count": 35,
   "metadata": {},
   "outputs": [
    {
     "data": {
      "text/plain": [
       "(60000, 28, 28)"
      ]
     },
     "execution_count": 35,
     "metadata": {},
     "output_type": "execute_result"
    }
   ],
   "source": [
    "Xtrain.shape"
   ]
  },
  {
   "cell_type": "code",
   "execution_count": 36,
   "metadata": {},
   "outputs": [
    {
     "data": {
      "text/plain": [
       "(10000, 28, 28)"
      ]
     },
     "execution_count": 36,
     "metadata": {},
     "output_type": "execute_result"
    }
   ],
   "source": [
    "Xtest.shape"
   ]
  },
  {
   "cell_type": "code",
   "execution_count": 37,
   "metadata": {},
   "outputs": [
    {
     "data": {
      "text/plain": [
       "(10000,)"
      ]
     },
     "execution_count": 37,
     "metadata": {},
     "output_type": "execute_result"
    }
   ],
   "source": [
    "ytest.shape"
   ]
  },
  {
   "cell_type": "code",
   "execution_count": 38,
   "metadata": {
    "collapsed": true
   },
   "outputs": [],
   "source": [
    "XtrainScaled = Xtrain.astype('float32') / 255."
   ]
  },
  {
   "cell_type": "code",
   "execution_count": 39,
   "metadata": {
    "collapsed": true
   },
   "outputs": [],
   "source": [
    "XtestScaled = Xtest.astype('float32') / 255."
   ]
  },
  {
   "cell_type": "markdown",
   "metadata": {},
   "source": [
    "Can think of the above as MaxAbsScaler"
   ]
  },
  {
   "cell_type": "code",
   "execution_count": 40,
   "metadata": {
    "collapsed": true
   },
   "outputs": [],
   "source": [
    "import numpy as np"
   ]
  },
  {
   "cell_type": "code",
   "execution_count": 42,
   "metadata": {},
   "outputs": [
    {
     "data": {
      "text/plain": [
       "784"
      ]
     },
     "execution_count": 42,
     "metadata": {},
     "output_type": "execute_result"
    }
   ],
   "source": [
    "np.prod(XtrainScaled.shape[1:])"
   ]
  },
  {
   "cell_type": "code",
   "execution_count": 43,
   "metadata": {
    "collapsed": true
   },
   "outputs": [],
   "source": [
    "XtrainScaledFlatten = XtrainScaled.reshape((len(XtrainScaled), np.prod(XtrainScaled.shape[1:])))"
   ]
  },
  {
   "cell_type": "code",
   "execution_count": 44,
   "metadata": {
    "collapsed": true
   },
   "outputs": [],
   "source": [
    "XtestScaledFlatten = XtestScaled.reshape((len(XtestScaled), np.prod(XtestScaled.shape[1:])))"
   ]
  },
  {
   "cell_type": "code",
   "execution_count": 47,
   "metadata": {},
   "outputs": [
    {
     "data": {
      "text/plain": [
       "array([[0., 0., 0., ..., 0., 0., 0.],\n",
       "       [0., 0., 0., ..., 0., 0., 0.],\n",
       "       [0., 0., 0., ..., 0., 0., 0.],\n",
       "       ...,\n",
       "       [0., 0., 0., ..., 0., 0., 0.],\n",
       "       [0., 0., 0., ..., 0., 0., 0.],\n",
       "       [0., 0., 0., ..., 0., 0., 0.]], dtype=float32)"
      ]
     },
     "execution_count": 47,
     "metadata": {},
     "output_type": "execute_result"
    }
   ],
   "source": [
    "XtrainScaledFlatten"
   ]
  },
  {
   "cell_type": "markdown",
   "metadata": {},
   "source": [
    "Training the autoencoder"
   ]
  },
  {
   "cell_type": "code",
   "execution_count": 57,
   "metadata": {},
   "outputs": [
    {
     "name": "stdout",
     "output_type": "stream",
     "text": [
      "Train on 60000 samples, validate on 10000 samples\n",
      "Epoch 1/200\n",
      "60000/60000 [==============================] - 2s 33us/step - loss: 0.0940 - val_loss: 0.0927\n",
      "Epoch 2/200\n",
      "60000/60000 [==============================] - 2s 35us/step - loss: 0.0940 - val_loss: 0.0926\n",
      "Epoch 3/200\n",
      "60000/60000 [==============================] - 2s 33us/step - loss: 0.0940 - val_loss: 0.0927\n",
      "Epoch 4/200\n",
      "60000/60000 [==============================] - 2s 35us/step - loss: 0.0940 - val_loss: 0.0926\n",
      "Epoch 5/200\n",
      "60000/60000 [==============================] - 2s 34us/step - loss: 0.0940 - val_loss: 0.0926\n",
      "Epoch 6/200\n",
      "60000/60000 [==============================] - 2s 35us/step - loss: 0.0939 - val_loss: 0.0926\n",
      "Epoch 7/200\n",
      "60000/60000 [==============================] - 2s 35us/step - loss: 0.0939 - val_loss: 0.0926\n",
      "Epoch 8/200\n",
      "60000/60000 [==============================] - 2s 35us/step - loss: 0.0939 - val_loss: 0.0926\n",
      "Epoch 9/200\n",
      "60000/60000 [==============================] - 2s 38us/step - loss: 0.0939 - val_loss: 0.0926\n",
      "Epoch 10/200\n",
      "60000/60000 [==============================] - 2s 37us/step - loss: 0.0939 - val_loss: 0.0926\n",
      "Epoch 11/200\n",
      "60000/60000 [==============================] - 2s 37us/step - loss: 0.0939 - val_loss: 0.0926\n",
      "Epoch 12/200\n",
      "60000/60000 [==============================] - 2s 37us/step - loss: 0.0939 - val_loss: 0.0926\n",
      "Epoch 13/200\n",
      "60000/60000 [==============================] - 3s 45us/step - loss: 0.0939 - val_loss: 0.0926\n",
      "Epoch 14/200\n",
      "60000/60000 [==============================] - 2s 33us/step - loss: 0.0939 - val_loss: 0.0925\n",
      "Epoch 15/200\n",
      "60000/60000 [==============================] - 2s 28us/step - loss: 0.0939 - val_loss: 0.0925\n",
      "Epoch 16/200\n",
      "60000/60000 [==============================] - 2s 30us/step - loss: 0.0938 - val_loss: 0.0925\n",
      "Epoch 17/200\n",
      "60000/60000 [==============================] - 2s 32us/step - loss: 0.0938 - val_loss: 0.0925\n",
      "Epoch 18/200\n",
      "60000/60000 [==============================] - 2s 34us/step - loss: 0.0938 - val_loss: 0.0925\n",
      "Epoch 19/200\n",
      "60000/60000 [==============================] - ETA: 0s - loss: 0.093 - 2s 31us/step - loss: 0.0938 - val_loss: 0.0925\n",
      "Epoch 20/200\n",
      "60000/60000 [==============================] - 3s 44us/step - loss: 0.0938 - val_loss: 0.0925\n",
      "Epoch 21/200\n",
      "60000/60000 [==============================] - 2s 37us/step - loss: 0.0938 - val_loss: 0.0925\n",
      "Epoch 22/200\n",
      "60000/60000 [==============================] - 2s 37us/step - loss: 0.0938 - val_loss: 0.0925\n",
      "Epoch 23/200\n",
      "60000/60000 [==============================] - 2s 37us/step - loss: 0.0938 - val_loss: 0.0925\n",
      "Epoch 24/200\n",
      "60000/60000 [==============================] - 2s 36us/step - loss: 0.0938 - val_loss: 0.0925\n",
      "Epoch 25/200\n",
      "60000/60000 [==============================] - 2s 37us/step - loss: 0.0938 - val_loss: 0.0925\n",
      "Epoch 26/200\n",
      "60000/60000 [==============================] - 2s 37us/step - loss: 0.0937 - val_loss: 0.0924\n",
      "Epoch 27/200\n",
      "60000/60000 [==============================] - 2s 37us/step - loss: 0.0937 - val_loss: 0.0924\n",
      "Epoch 28/200\n",
      "60000/60000 [==============================] - 2s 37us/step - loss: 0.0937 - val_loss: 0.0925\n",
      "Epoch 29/200\n",
      "60000/60000 [==============================] - 2s 38us/step - loss: 0.0937 - val_loss: 0.0924\n",
      "Epoch 30/200\n",
      "60000/60000 [==============================] - 2s 37us/step - loss: 0.0937 - val_loss: 0.0924\n",
      "Epoch 31/200\n",
      "60000/60000 [==============================] - 2s 38us/step - loss: 0.0937 - val_loss: 0.0924\n",
      "Epoch 32/200\n",
      "60000/60000 [==============================] - 2s 38us/step - loss: 0.0937 - val_loss: 0.0924\n",
      "Epoch 33/200\n",
      "60000/60000 [==============================] - 2s 38us/step - loss: 0.0937 - val_loss: 0.0924\n",
      "Epoch 34/200\n",
      "60000/60000 [==============================] - 2s 39us/step - loss: 0.0937 - val_loss: 0.0924\n",
      "Epoch 35/200\n",
      "60000/60000 [==============================] - 2s 39us/step - loss: 0.0937 - val_loss: 0.0924\n",
      "Epoch 36/200\n",
      "60000/60000 [==============================] - 2s 39us/step - loss: 0.0937 - val_loss: 0.0924\n",
      "Epoch 37/200\n",
      "60000/60000 [==============================] - 2s 39us/step - loss: 0.0937 - val_loss: 0.0924\n",
      "Epoch 38/200\n",
      "60000/60000 [==============================] - 2s 39us/step - loss: 0.0937 - val_loss: 0.0924\n",
      "Epoch 39/200\n",
      "60000/60000 [==============================] - 2s 39us/step - loss: 0.0937 - val_loss: 0.0924\n",
      "Epoch 40/200\n",
      "60000/60000 [==============================] - 2s 39us/step - loss: 0.0936 - val_loss: 0.0924\n",
      "Epoch 41/200\n",
      "60000/60000 [==============================] - 2s 39us/step - loss: 0.0936 - val_loss: 0.0924\n",
      "Epoch 42/200\n",
      "60000/60000 [==============================] - 2s 39us/step - loss: 0.0936 - val_loss: 0.0923\n",
      "Epoch 43/200\n",
      "60000/60000 [==============================] - 2s 39us/step - loss: 0.0936 - val_loss: 0.0923\n",
      "Epoch 44/200\n",
      "60000/60000 [==============================] - 2s 40us/step - loss: 0.0936 - val_loss: 0.0923\n",
      "Epoch 45/200\n",
      "60000/60000 [==============================] - 3s 44us/step - loss: 0.0936 - val_loss: 0.0923\n",
      "Epoch 46/200\n",
      "60000/60000 [==============================] - 2s 37us/step - loss: 0.0936 - val_loss: 0.0923\n",
      "Epoch 47/200\n",
      "60000/60000 [==============================] - 2s 28us/step - loss: 0.0936 - val_loss: 0.0923\n",
      "Epoch 48/200\n",
      "60000/60000 [==============================] - 2s 32us/step - loss: 0.0936 - val_loss: 0.0923\n",
      "Epoch 49/200\n",
      "60000/60000 [==============================] - 3s 43us/step - loss: 0.0936 - val_loss: 0.0923\n",
      "Epoch 50/200\n",
      "60000/60000 [==============================] - 2s 33us/step - loss: 0.0936 - val_loss: 0.0923\n",
      "Epoch 51/200\n",
      "60000/60000 [==============================] - 2s 30us/step - loss: 0.0936 - val_loss: 0.0923\n",
      "Epoch 52/200\n",
      "60000/60000 [==============================] - 2s 32us/step - loss: 0.0936 - val_loss: 0.0923\n",
      "Epoch 53/200\n",
      "60000/60000 [==============================] - 2s 30us/step - loss: 0.0936 - val_loss: 0.0923\n",
      "Epoch 54/200\n",
      "60000/60000 [==============================] - 2s 31us/step - loss: 0.0936 - val_loss: 0.0923\n",
      "Epoch 55/200\n",
      "60000/60000 [==============================] - 2s 29us/step - loss: 0.0935 - val_loss: 0.0923\n",
      "Epoch 56/200\n",
      "60000/60000 [==============================] - 2s 30us/step - loss: 0.0935 - val_loss: 0.0923\n",
      "Epoch 57/200\n",
      "60000/60000 [==============================] - 2s 32us/step - loss: 0.0935 - val_loss: 0.0923\n",
      "Epoch 58/200\n",
      "60000/60000 [==============================] - 2s 32us/step - loss: 0.0935 - val_loss: 0.0922\n",
      "Epoch 59/200\n",
      "60000/60000 [==============================] - 2s 30us/step - loss: 0.0935 - val_loss: 0.0923\n",
      "Epoch 60/200\n",
      "60000/60000 [==============================] - 2s 36us/step - loss: 0.0935 - val_loss: 0.0922\n",
      "Epoch 61/200\n",
      "60000/60000 [==============================] - 2s 32us/step - loss: 0.0935 - val_loss: 0.0922\n",
      "Epoch 62/200\n",
      "60000/60000 [==============================] - 2s 30us/step - loss: 0.0935 - val_loss: 0.0922\n",
      "Epoch 63/200\n",
      "60000/60000 [==============================] - 2s 31us/step - loss: 0.0935 - val_loss: 0.0922\n",
      "Epoch 64/200\n",
      "60000/60000 [==============================] - 2s 31us/step - loss: 0.0935 - val_loss: 0.0922\n",
      "Epoch 65/200\n",
      "60000/60000 [==============================] - 2s 36us/step - loss: 0.0935 - val_loss: 0.0922\n",
      "Epoch 66/200\n",
      "60000/60000 [==============================] - 2s 39us/step - loss: 0.0935 - val_loss: 0.0922\n",
      "Epoch 67/200\n",
      "60000/60000 [==============================] - 2s 36us/step - loss: 0.0935 - val_loss: 0.0922\n",
      "Epoch 68/200\n",
      "60000/60000 [==============================] - 3s 50us/step - loss: 0.0935 - val_loss: 0.0922\n",
      "Epoch 69/200\n",
      "60000/60000 [==============================] - 3s 48us/step - loss: 0.0935 - val_loss: 0.0922\n",
      "Epoch 70/200\n",
      "60000/60000 [==============================] - 3s 49us/step - loss: 0.0935 - val_loss: 0.0922\n",
      "Epoch 71/200\n",
      "60000/60000 [==============================] - 2s 38us/step - loss: 0.0935 - val_loss: 0.0922\n",
      "Epoch 72/200\n",
      "60000/60000 [==============================] - 2s 32us/step - loss: 0.0935 - val_loss: 0.0922\n",
      "Epoch 73/200\n",
      "60000/60000 [==============================] - 2s 31us/step - loss: 0.0934 - val_loss: 0.0922\n",
      "Epoch 74/200\n",
      "60000/60000 [==============================] - 2s 31us/step - loss: 0.0934 - val_loss: 0.0922\n",
      "Epoch 75/200\n",
      "60000/60000 [==============================] - 3s 44us/step - loss: 0.0934 - val_loss: 0.0922\n",
      "Epoch 76/200\n",
      "60000/60000 [==============================] - 2s 34us/step - loss: 0.0934 - val_loss: 0.0922\n"
     ]
    },
    {
     "name": "stdout",
     "output_type": "stream",
     "text": [
      "Epoch 77/200\n",
      "60000/60000 [==============================] - 2s 39us/step - loss: 0.0934 - val_loss: 0.0921\n",
      "Epoch 78/200\n",
      "60000/60000 [==============================] - 2s 35us/step - loss: 0.0934 - val_loss: 0.0922\n",
      "Epoch 79/200\n",
      "60000/60000 [==============================] - 2s 38us/step - loss: 0.0934 - val_loss: 0.0922\n",
      "Epoch 80/200\n",
      "60000/60000 [==============================] - 2s 30us/step - loss: 0.0934 - val_loss: 0.0922\n",
      "Epoch 81/200\n",
      "60000/60000 [==============================] - 2s 29us/step - loss: 0.0934 - val_loss: 0.0921\n",
      "Epoch 82/200\n",
      "60000/60000 [==============================] - 2s 29us/step - loss: 0.0934 - val_loss: 0.0921\n",
      "Epoch 83/200\n",
      "60000/60000 [==============================] - 2s 32us/step - loss: 0.0934 - val_loss: 0.0921\n",
      "Epoch 84/200\n",
      "60000/60000 [==============================] - 2s 33us/step - loss: 0.0934 - val_loss: 0.0921\n",
      "Epoch 85/200\n",
      "60000/60000 [==============================] - 2s 34us/step - loss: 0.0934 - val_loss: 0.0921\n",
      "Epoch 86/200\n",
      "60000/60000 [==============================] - 2s 33us/step - loss: 0.0934 - val_loss: 0.0921\n",
      "Epoch 87/200\n",
      "60000/60000 [==============================] - 2s 39us/step - loss: 0.0934 - val_loss: 0.0921\n",
      "Epoch 88/200\n",
      "60000/60000 [==============================] - 2s 31us/step - loss: 0.0934 - val_loss: 0.0921\n",
      "Epoch 89/200\n",
      "60000/60000 [==============================] - 2s 31us/step - loss: 0.0934 - val_loss: 0.0921\n",
      "Epoch 90/200\n",
      "60000/60000 [==============================] - 2s 33us/step - loss: 0.0934 - val_loss: 0.0921\n",
      "Epoch 91/200\n",
      "60000/60000 [==============================] - 2s 38us/step - loss: 0.0934 - val_loss: 0.0921\n",
      "Epoch 92/200\n",
      "60000/60000 [==============================] - 2s 36us/step - loss: 0.0934 - val_loss: 0.0921\n",
      "Epoch 93/200\n",
      "60000/60000 [==============================] - 2s 38us/step - loss: 0.0934 - val_loss: 0.0921\n",
      "Epoch 94/200\n",
      "60000/60000 [==============================] - 2s 34us/step - loss: 0.0934 - val_loss: 0.0921\n",
      "Epoch 95/200\n",
      "60000/60000 [==============================] - 3s 43us/step - loss: 0.0933 - val_loss: 0.0921\n",
      "Epoch 96/200\n",
      "60000/60000 [==============================] - 2s 36us/step - loss: 0.0933 - val_loss: 0.0921\n",
      "Epoch 97/200\n",
      "60000/60000 [==============================] - 2s 34us/step - loss: 0.0933 - val_loss: 0.0921\n",
      "Epoch 98/200\n",
      "60000/60000 [==============================] - 2s 32us/step - loss: 0.0933 - val_loss: 0.0921\n",
      "Epoch 99/200\n",
      "60000/60000 [==============================] - 3s 44us/step - loss: 0.0933 - val_loss: 0.0921\n",
      "Epoch 100/200\n",
      "60000/60000 [==============================] - 2s 34us/step - loss: 0.0933 - val_loss: 0.0921\n",
      "Epoch 101/200\n",
      "60000/60000 [==============================] - 2s 32us/step - loss: 0.0933 - val_loss: 0.0921\n",
      "Epoch 102/200\n",
      "60000/60000 [==============================] - 3s 43us/step - loss: 0.0933 - val_loss: 0.0921\n",
      "Epoch 103/200\n",
      "60000/60000 [==============================] - 2s 29us/step - loss: 0.0933 - val_loss: 0.0921\n",
      "Epoch 104/200\n",
      "60000/60000 [==============================] - 2s 29us/step - loss: 0.0933 - val_loss: 0.0921\n",
      "Epoch 105/200\n",
      "60000/60000 [==============================] - 2s 32us/step - loss: 0.0933 - val_loss: 0.0920\n",
      "Epoch 106/200\n",
      "60000/60000 [==============================] - 2s 29us/step - loss: 0.0933 - val_loss: 0.0921\n",
      "Epoch 107/200\n",
      "60000/60000 [==============================] - 2s 35us/step - loss: 0.0933 - val_loss: 0.0921\n",
      "Epoch 108/200\n",
      "60000/60000 [==============================] - 2s 34us/step - loss: 0.0933 - val_loss: 0.0920\n",
      "Epoch 109/200\n",
      "60000/60000 [==============================] - 2s 38us/step - loss: 0.0933 - val_loss: 0.0920\n",
      "Epoch 110/200\n",
      "60000/60000 [==============================] - 2s 37us/step - loss: 0.0933 - val_loss: 0.0920\n",
      "Epoch 111/200\n",
      "60000/60000 [==============================] - 2s 31us/step - loss: 0.0933 - val_loss: 0.0920\n",
      "Epoch 112/200\n",
      "60000/60000 [==============================] - 2s 30us/step - loss: 0.0933 - val_loss: 0.0920\n",
      "Epoch 113/200\n",
      "60000/60000 [==============================] - 2s 30us/step - loss: 0.0933 - val_loss: 0.0920\n",
      "Epoch 114/200\n",
      "60000/60000 [==============================] - 2s 35us/step - loss: 0.0933 - val_loss: 0.0920\n",
      "Epoch 115/200\n",
      "60000/60000 [==============================] - 2s 34us/step - loss: 0.0933 - val_loss: 0.0920\n",
      "Epoch 116/200\n",
      "60000/60000 [==============================] - 2s 31us/step - loss: 0.0933 - val_loss: 0.0920\n",
      "Epoch 117/200\n",
      "60000/60000 [==============================] - 2s 31us/step - loss: 0.0933 - val_loss: 0.0920\n",
      "Epoch 118/200\n",
      "60000/60000 [==============================] - 2s 35us/step - loss: 0.0933 - val_loss: 0.0920\n",
      "Epoch 119/200\n",
      "60000/60000 [==============================] - 3s 43us/step - loss: 0.0933 - val_loss: 0.0920\n",
      "Epoch 120/200\n",
      "60000/60000 [==============================] - 2s 35us/step - loss: 0.0933 - val_loss: 0.0920\n",
      "Epoch 121/200\n",
      "60000/60000 [==============================] - 2s 30us/step - loss: 0.0933 - val_loss: 0.0920\n",
      "Epoch 122/200\n",
      "60000/60000 [==============================] - 2s 35us/step - loss: 0.0933 - val_loss: 0.0920\n",
      "Epoch 123/200\n",
      "60000/60000 [==============================] - 2s 33us/step - loss: 0.0932 - val_loss: 0.0920\n",
      "Epoch 124/200\n",
      "60000/60000 [==============================] - 3s 43us/step - loss: 0.0932 - val_loss: 0.0920\n",
      "Epoch 125/200\n",
      "60000/60000 [==============================] - 2s 38us/step - loss: 0.0932 - val_loss: 0.0920\n",
      "Epoch 126/200\n",
      "60000/60000 [==============================] - 2s 34us/step - loss: 0.0932 - val_loss: 0.0920\n",
      "Epoch 127/200\n",
      "60000/60000 [==============================] - 2s 39us/step - loss: 0.0932 - val_loss: 0.0920\n",
      "Epoch 128/200\n",
      "60000/60000 [==============================] - 2s 30us/step - loss: 0.0932 - val_loss: 0.0920\n",
      "Epoch 129/200\n",
      "60000/60000 [==============================] - 2s 30us/step - loss: 0.0932 - val_loss: 0.0920\n",
      "Epoch 130/200\n",
      "60000/60000 [==============================] - 2s 29us/step - loss: 0.0932 - val_loss: 0.0920\n",
      "Epoch 131/200\n",
      "60000/60000 [==============================] - 2s 33us/step - loss: 0.0932 - val_loss: 0.0920\n",
      "Epoch 132/200\n",
      "60000/60000 [==============================] - 2s 35us/step - loss: 0.0932 - val_loss: 0.0920\n",
      "Epoch 133/200\n",
      "60000/60000 [==============================] - 2s 29us/step - loss: 0.0932 - val_loss: 0.0920\n",
      "Epoch 134/200\n",
      "60000/60000 [==============================] - 2s 33us/step - loss: 0.0932 - val_loss: 0.0920\n",
      "Epoch 135/200\n",
      "60000/60000 [==============================] - 2s 34us/step - loss: 0.0932 - val_loss: 0.0920\n",
      "Epoch 136/200\n",
      "60000/60000 [==============================] - 2s 36us/step - loss: 0.0932 - val_loss: 0.0919\n",
      "Epoch 137/200\n",
      "60000/60000 [==============================] - 2s 29us/step - loss: 0.0932 - val_loss: 0.0920\n",
      "Epoch 138/200\n",
      "60000/60000 [==============================] - 2s 34us/step - loss: 0.0932 - val_loss: 0.0919\n",
      "Epoch 139/200\n",
      "60000/60000 [==============================] - 2s 30us/step - loss: 0.0932 - val_loss: 0.0919\n",
      "Epoch 140/200\n",
      "60000/60000 [==============================] - 2s 39us/step - loss: 0.0932 - val_loss: 0.0920\n",
      "Epoch 141/200\n",
      "60000/60000 [==============================] - 2s 29us/step - loss: 0.0932 - val_loss: 0.0919\n",
      "Epoch 142/200\n",
      "60000/60000 [==============================] - 2s 29us/step - loss: 0.0932 - val_loss: 0.0919\n",
      "Epoch 143/200\n",
      "60000/60000 [==============================] - 2s 28us/step - loss: 0.0932 - val_loss: 0.0919\n",
      "Epoch 144/200\n",
      "60000/60000 [==============================] - 2s 36us/step - loss: 0.0932 - val_loss: 0.0919\n",
      "Epoch 145/200\n",
      "60000/60000 [==============================] - 2s 31us/step - loss: 0.0932 - val_loss: 0.0919\n",
      "Epoch 146/200\n",
      "60000/60000 [==============================] - 2s 29us/step - loss: 0.0932 - val_loss: 0.0919\n",
      "Epoch 147/200\n",
      "60000/60000 [==============================] - 2s 32us/step - loss: 0.0932 - val_loss: 0.0919\n",
      "Epoch 148/200\n",
      "60000/60000 [==============================] - 2s 29us/step - loss: 0.0932 - val_loss: 0.0920\n",
      "Epoch 149/200\n",
      "60000/60000 [==============================] - 2s 30us/step - loss: 0.0932 - val_loss: 0.0919\n",
      "Epoch 150/200\n",
      "60000/60000 [==============================] - 2s 33us/step - loss: 0.0932 - val_loss: 0.0919\n",
      "Epoch 151/200\n",
      "60000/60000 [==============================] - 2s 30us/step - loss: 0.0932 - val_loss: 0.0919\n",
      "Epoch 152/200\n",
      "60000/60000 [==============================] - 2s 36us/step - loss: 0.0932 - val_loss: 0.0919\n",
      "Epoch 153/200\n"
     ]
    },
    {
     "name": "stdout",
     "output_type": "stream",
     "text": [
      "60000/60000 [==============================] - 2s 36us/step - loss: 0.0932 - val_loss: 0.0919\n",
      "Epoch 154/200\n",
      "60000/60000 [==============================] - 2s 33us/step - loss: 0.0932 - val_loss: 0.0919\n",
      "Epoch 155/200\n",
      "60000/60000 [==============================] - 2s 31us/step - loss: 0.0932 - val_loss: 0.0919\n",
      "Epoch 156/200\n",
      "60000/60000 [==============================] - 2s 32us/step - loss: 0.0932 - val_loss: 0.0919\n",
      "Epoch 157/200\n",
      "60000/60000 [==============================] - 2s 37us/step - loss: 0.0931 - val_loss: 0.0919\n",
      "Epoch 158/200\n",
      "60000/60000 [==============================] - 2s 32us/step - loss: 0.0931 - val_loss: 0.0919\n",
      "Epoch 159/200\n",
      "60000/60000 [==============================] - 2s 32us/step - loss: 0.0931 - val_loss: 0.0919\n",
      "Epoch 160/200\n",
      "60000/60000 [==============================] - 2s 34us/step - loss: 0.0931 - val_loss: 0.0919\n",
      "Epoch 161/200\n",
      "60000/60000 [==============================] - 2s 37us/step - loss: 0.0931 - val_loss: 0.0919\n",
      "Epoch 162/200\n",
      "60000/60000 [==============================] - 2s 41us/step - loss: 0.0931 - val_loss: 0.0919\n",
      "Epoch 163/200\n",
      "60000/60000 [==============================] - 2s 34us/step - loss: 0.0931 - val_loss: 0.0919\n",
      "Epoch 164/200\n",
      "60000/60000 [==============================] - 2s 34us/step - loss: 0.0931 - val_loss: 0.0919\n",
      "Epoch 165/200\n",
      "60000/60000 [==============================] - 2s 31us/step - loss: 0.0931 - val_loss: 0.0919\n",
      "Epoch 166/200\n",
      "60000/60000 [==============================] - 3s 42us/step - loss: 0.0931 - val_loss: 0.0919\n",
      "Epoch 167/200\n",
      "60000/60000 [==============================] - 2s 39us/step - loss: 0.0931 - val_loss: 0.0919\n",
      "Epoch 168/200\n",
      "60000/60000 [==============================] - 2s 31us/step - loss: 0.0931 - val_loss: 0.0919\n",
      "Epoch 169/200\n",
      "60000/60000 [==============================] - 2s 29us/step - loss: 0.0931 - val_loss: 0.0919\n",
      "Epoch 170/200\n",
      "60000/60000 [==============================] - 2s 28us/step - loss: 0.0931 - val_loss: 0.0919\n",
      "Epoch 171/200\n",
      "60000/60000 [==============================] - 2s 29us/step - loss: 0.0931 - val_loss: 0.0919\n",
      "Epoch 172/200\n",
      "60000/60000 [==============================] - 2s 28us/step - loss: 0.0931 - val_loss: 0.0919\n",
      "Epoch 173/200\n",
      "60000/60000 [==============================] - 2s 32us/step - loss: 0.0931 - val_loss: 0.0919\n",
      "Epoch 174/200\n",
      "60000/60000 [==============================] - 2s 32us/step - loss: 0.0931 - val_loss: 0.0919\n",
      "Epoch 175/200\n",
      "60000/60000 [==============================] - 2s 29us/step - loss: 0.0931 - val_loss: 0.0919\n",
      "Epoch 176/200\n",
      "60000/60000 [==============================] - 2s 29us/step - loss: 0.0931 - val_loss: 0.0919\n",
      "Epoch 177/200\n",
      "60000/60000 [==============================] - 2s 29us/step - loss: 0.0931 - val_loss: 0.0919\n",
      "Epoch 178/200\n",
      "60000/60000 [==============================] - 2s 29us/step - loss: 0.0931 - val_loss: 0.0919\n",
      "Epoch 179/200\n",
      "60000/60000 [==============================] - 2s 28us/step - loss: 0.0931 - val_loss: 0.0919\n",
      "Epoch 180/200\n",
      "60000/60000 [==============================] - 2s 28us/step - loss: 0.0931 - val_loss: 0.0919\n",
      "Epoch 181/200\n",
      "60000/60000 [==============================] - 2s 30us/step - loss: 0.0931 - val_loss: 0.0919\n",
      "Epoch 182/200\n",
      "60000/60000 [==============================] - 2s 31us/step - loss: 0.0931 - val_loss: 0.0919\n",
      "Epoch 183/200\n",
      "60000/60000 [==============================] - 2s 35us/step - loss: 0.0931 - val_loss: 0.0919\n",
      "Epoch 184/200\n",
      "60000/60000 [==============================] - 2s 30us/step - loss: 0.0931 - val_loss: 0.0919\n",
      "Epoch 185/200\n",
      "60000/60000 [==============================] - 2s 35us/step - loss: 0.0931 - val_loss: 0.0918\n",
      "Epoch 186/200\n",
      "60000/60000 [==============================] - 2s 38us/step - loss: 0.0931 - val_loss: 0.0918\n",
      "Epoch 187/200\n",
      "60000/60000 [==============================] - 2s 35us/step - loss: 0.0931 - val_loss: 0.0918\n",
      "Epoch 188/200\n",
      "60000/60000 [==============================] - 2s 32us/step - loss: 0.0931 - val_loss: 0.0918\n",
      "Epoch 189/200\n",
      "60000/60000 [==============================] - 2s 35us/step - loss: 0.0931 - val_loss: 0.0919\n",
      "Epoch 190/200\n",
      "60000/60000 [==============================] - 2s 40us/step - loss: 0.0931 - val_loss: 0.0918\n",
      "Epoch 191/200\n",
      "60000/60000 [==============================] - 2s 29us/step - loss: 0.0931 - val_loss: 0.0918\n",
      "Epoch 192/200\n",
      "60000/60000 [==============================] - 2s 31us/step - loss: 0.0931 - val_loss: 0.0918\n",
      "Epoch 193/200\n",
      "60000/60000 [==============================] - 2s 35us/step - loss: 0.0931 - val_loss: 0.0918\n",
      "Epoch 194/200\n",
      "60000/60000 [==============================] - 2s 33us/step - loss: 0.0931 - val_loss: 0.0919\n",
      "Epoch 195/200\n",
      "60000/60000 [==============================] - 2s 38us/step - loss: 0.0931 - val_loss: 0.0918\n",
      "Epoch 196/200\n",
      "60000/60000 [==============================] - 2s 33us/step - loss: 0.0931 - val_loss: 0.0918\n",
      "Epoch 197/200\n",
      "60000/60000 [==============================] - 2s 34us/step - loss: 0.0931 - val_loss: 0.0918\n",
      "Epoch 198/200\n",
      "60000/60000 [==============================] - 2s 34us/step - loss: 0.0931 - val_loss: 0.0918\n",
      "Epoch 199/200\n",
      "60000/60000 [==============================] - 2s 33us/step - loss: 0.0930 - val_loss: 0.0918\n",
      "Epoch 200/200\n",
      "60000/60000 [==============================] - 2s 32us/step - loss: 0.0930 - val_loss: 0.0918\n"
     ]
    }
   ],
   "source": [
    "history = autoencoder.fit(XtrainScaledFlatten, XtrainScaledFlatten, epochs=200, \n",
    "                          batch_size=256, shuffle=True, verbose=1, validation_data=(XtestScaledFlatten, XtestScaledFlatten)).history"
   ]
  },
  {
   "cell_type": "code",
   "execution_count": 58,
   "metadata": {
    "collapsed": true
   },
   "outputs": [],
   "source": [
    "import matplotlib.pyplot as plt\n",
    "%matplotlib inline"
   ]
  },
  {
   "cell_type": "code",
   "execution_count": 59,
   "metadata": {},
   "outputs": [
    {
     "data": {
      "image/png": "[encoded data removed]",
      "text/plain": [
       "<matplotlib.figure.Figure at 0x10de2ca58>"
      ]
     },
     "metadata": {},
     "output_type": "display_data"
    }
   ],
   "source": [
    "plt.plot(history['loss']);\n",
    "plt.plot(history['val_loss']);\n",
    "plt.ylabel('loss')\n",
    "plt.xlabel('epoch')\n",
    "plt.legend(['training set loss', 'validation set loss']);"
   ]
  }
 ],
 "metadata": {
  "kernelspec": {
   "display_name": "Python 3",
   "language": "python",
   "name": "python3"
  },
  "language_info": {
   "codemirror_mode": {
    "name": "ipython",
    "version": 3
   },
   "file_extension": ".py",
   "mimetype": "text/x-python",
   "name": "python",
   "nbconvert_exporter": "python",
   "pygments_lexer": "ipython3",
   "version": "3.6.3"
  }
 },
 "nbformat": 4,
 "nbformat_minor": 2
}
